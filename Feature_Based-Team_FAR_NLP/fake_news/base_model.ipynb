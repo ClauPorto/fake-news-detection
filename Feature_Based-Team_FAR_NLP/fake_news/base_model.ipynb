{
 "cells": [
  {
   "cell_type": "code",
   "execution_count": 166,
   "metadata": {},
   "outputs": [
    {
     "name": "stderr",
     "output_type": "stream",
     "text": [
      "[nltk_data] Downloading package punkt to\n",
      "[nltk_data]     C:\\Users\\anh21\\AppData\\Roaming\\nltk_data...\n",
      "[nltk_data]   Package punkt is already up-to-date!\n",
      "[nltk_data] Downloading package wordnet to\n",
      "[nltk_data]     C:\\Users\\anh21\\AppData\\Roaming\\nltk_data...\n",
      "[nltk_data]   Package wordnet is already up-to-date!\n",
      "[nltk_data] Downloading package stopwords to\n",
      "[nltk_data]     C:\\Users\\anh21\\AppData\\Roaming\\nltk_data...\n",
      "[nltk_data]   Package stopwords is already up-to-date!\n"
     ]
    },
    {
     "data": {
      "text/plain": [
       "True"
      ]
     },
     "execution_count": 166,
     "metadata": {},
     "output_type": "execute_result"
    }
   ],
   "source": [
    "# -*- coding: utf-8 -*-\n",
    "import os\n",
    "from os import listdir\n",
    "from sklearn.metrics import classification_report\n",
    "from keras.metrics import categorical_accuracy \n",
    "from keras import layers\n",
    "import matplotlib.pyplot as plt\n",
    "from keras.utils.np_utils import to_categorical\n",
    "from keras.layers.convolutional import Convolution1D\n",
    "import utility\n",
    "import warnings\n",
    "from nltk.tokenize import regexp_tokenize\n",
    "import gensim as gen\n",
    "import nltk\n",
    "import keras.backend as K\n",
    "from keras.preprocessing import sequence\n",
    "from keras.models import Sequential, Model\n",
    "from keras.layers import Dense, Layer,Lambda, Dropout, Activation, Input, merge, Multiply, Embedding,GlobalMaxPooling1D \n",
    "from sklearn.ensemble import GradientBoostingClassifier\n",
    "from feature_engineering import refuting_features, polarity_features, hand_features, gen_or_load_feats\n",
    "from feature_engineering import word_overlap_features\n",
    "from utils.dataset import DataSet\n",
    "from utils.generate_test_splits import kfold_split, get_stances_for_folds\n",
    "import tensorflow as tf\n",
    "#from tensorflow.keras import layers\n",
    "import numpy as np\n",
    "import pandas as pd\n",
    "from nltk.tokenize import regexp_tokenize\n",
    "import numpy as np\n",
    "import gensim as gen\n",
    "from sklearn.metrics import confusion_matrix\n",
    "import re\n",
    "import pdb\n",
    "import matplotlib.pyplot as plt\n",
    "import seaborn as sns\n",
    "#from collections import defaultdict\n",
    "import nltk\n",
    "import spacy\n",
    "from nltk.corpus import stopwords\n",
    "from nltk.tokenize import RegexpTokenizer\n",
    "from spacy.lang.en.stop_words import STOP_WORDS\n",
    "from nltk.tokenize import sent_tokenize\n",
    "nltk.download('punkt')\n",
    "nltk.download('wordnet')\n",
    "nltk.download('stopwords')"
   ]
  },
  {
   "cell_type": "code",
   "execution_count": 2,
   "metadata": {},
   "outputs": [],
   "source": [
    "#importing all stopwords\n",
    "stop_words=stopwords.words('english')\n",
    "stopwords=set(stop_words).union(STOP_WORDS)"
   ]
  },
  {
   "cell_type": "code",
   "execution_count": 3,
   "metadata": {},
   "outputs": [],
   "source": [
    "\n",
    "tokenizer= RegexpTokenizer('\\w+\\'?\\w+|w+')\n",
    "#%%\n",
    "directory=\"C:\\\\Users\\\\anh21\\\\Fake_news\\\\fake news challenge (FNC-1)\\\\Qatar_data\\\\\"\n",
    "train_folders=['legit-training\\\\','fake-training\\\\']\n",
    "test_folders=['fake-test\\\\','legit-test\\\\']\n",
    "\n",
    "#%% basic preprocessing\n",
    "exceptionStopWords = {\n",
    "    'again',\n",
    "    'against',\n",
    "    'ain',\n",
    "    'almost',\n",
    "    'among',\n",
    "    'amongst',\n",
    "    'amount',\n",
    "    'anyhow',\n",
    "    'anyway',\n",
    "    'aren',\n",
    "    \"aren't\",\n",
    "    'below',\n",
    "    'bottom',\n",
    "    'but',\n",
    "    'cannot',\n",
    "    'couldn',\n",
    "    \"couldn't\",\n",
    "    'didn',\n",
    "    \"didn't\",\n",
    "    'doesn',\n",
    "    \"doesn't\",\n",
    "    'don',\n",
    "    \"don't\",\n",
    "    'done',\n",
    "    'down',\n",
    "    'except',\n",
    "    'few',\n",
    "    'hadn',\n",
    "    \"hadn't\",\n",
    "    'hasn',\n",
    "    \"hasn't\",\n",
    "    'haven',\n",
    "    \"haven't\",\n",
    "    'however',\n",
    "    'isn',\n",
    "    \"isn't\",\n",
    "    'least',\n",
    "    'mightn',\n",
    "    \"mightn't\",\n",
    "    'must',\n",
    "    'mustn',\n",
    "    \"mustn't\",\n",
    "    'needn',\n",
    "    \"needn't\",\n",
    "    'neither',\n",
    "    'never',\n",
    "    'nevertheless',\n",
    "    'no',\n",
    "    'nobody',\n",
    "    'none', 'noone',\n",
    "    'nor',\n",
    "    'not',\n",
    "    'nothing',\n",
    "    'should',\n",
    "    \"should've\",\n",
    "    'shouldn',\n",
    "    \"shouldn't\",\n",
    "    'too',\n",
    "    'top',\n",
    "    'up',\n",
    "    'wasn',\n",
    "    \"wasn't\",\n",
    "    'well',\n",
    "    'weren',\n",
    "    \"weren't\",\n",
    "    'won',\n",
    "    \"won't\",\n",
    "    'wouldn',\n",
    "    \"wouldn't\",\n",
    "}\n",
    "finalstop = stopwords - exceptionStopWords"
   ]
  },
  {
   "cell_type": "code",
   "execution_count": 582,
   "metadata": {},
   "outputs": [
    {
     "name": "stdout",
     "output_type": "stream",
     "text": [
      "Loading training data\n",
      "Loading testing data\n"
     ]
    }
   ],
   "source": [
    "\n",
    "def load_dataset(folders,directory):\n",
    "    \n",
    "#     heading=defaultdict(list)\n",
    "#     body=defaultdict(list)\n",
    "#     toke_sentence=defaultdict(list)\n",
    "    heading=[]\n",
    "    body=[]\n",
    "    domain=[]\n",
    "    credibility=[]\n",
    "    ids=0\n",
    "    for folder in folders:\n",
    "        for name in listdir(directory+folder):\n",
    "            names=re.findall(\"[a-zA-Z]+\",name)\n",
    "            myfile = pd.read_csv(directory+folder+name,sep='\\n\\n', header=None,encoding='utf-8')\n",
    "          \n",
    "                #addressing one word title\n",
    "            if len(tokenizer.tokenize(myfile[0][0]))<2:\n",
    "                artic=myfile[0][1].replace('  ','\\n').split('\\n')\n",
    "                heading.append((myfile[0][0]+' '+artic[0]).lower())\n",
    "                body.append((' '.join(artic[1:])).lower())\n",
    "             #addressing no title issue\n",
    "            elif len(myfile)==1:\n",
    "                 #artic=re.split('[\\n!?.\"-]+',myfile[0][0])\n",
    "                heading.append(np.nan)\n",
    "                body.append(myfile[0][0].replace('\\r','').lower())#(' '.join(artic[:])).replace('\\r','').lower()\n",
    "                \n",
    "                 #to do: addressing hyperlinks   \n",
    "            elif re.sub(r'^https?:\\/\\/.*[\\r\\n]*', '', myfile[0][0], flags=re.MULTILINE)=='':\n",
    "                \n",
    "                artic=myfile[0][1].split('.')\n",
    "                heading.append((artic[0]).lower())\n",
    "                body.append((' '.join(artic[1:])).lower())\n",
    "                \n",
    "            else:    \n",
    "                heading.append(myfile[0][0].replace('\\r','').lower())\n",
    "                body.append(myfile[0][1].replace('\\r','').lower())\n",
    "             \n",
    "            domain.append(names[0])\n",
    "            credibility.append(names[1])   \n",
    "            ids+=1\n",
    "    df=pd.DataFrame(list(zip(body, heading,credibility,domain)), \n",
    "               columns =['Body', 'Heading','Credibility','Domain'])\n",
    "    return df\n",
    "print(\"Loading training data\")\n",
    "train_data=load_dataset(train_folders,directory)  \n",
    "print(\"Loading testing data\")\n",
    "test_data=load_dataset(test_folders,directory)  \n",
    "#%%\n",
    "#domain_onehot=np.asarray(pd.get_dummies(domain), dtype = np.float32)"
   ]
  },
  {
   "cell_type": "code",
   "execution_count": 583,
   "metadata": {},
   "outputs": [
    {
     "data": {
      "text/plain": [
       "False"
      ]
     },
     "execution_count": 583,
     "metadata": {},
     "output_type": "execute_result"
    }
   ],
   "source": [
    "#checking for null values\n",
    "test_data.isnull().values.any()"
   ]
  },
  {
   "cell_type": "code",
   "execution_count": 584,
   "metadata": {},
   "outputs": [
    {
     "data": {
      "text/html": [
       "<div>\n",
       "<style scoped>\n",
       "    .dataframe tbody tr th:only-of-type {\n",
       "        vertical-align: middle;\n",
       "    }\n",
       "\n",
       "    .dataframe tbody tr th {\n",
       "        vertical-align: top;\n",
       "    }\n",
       "\n",
       "    .dataframe thead th {\n",
       "        text-align: right;\n",
       "    }\n",
       "</style>\n",
       "<table border=\"1\" class=\"dataframe\">\n",
       "  <thead>\n",
       "    <tr style=\"text-align: right;\">\n",
       "      <th></th>\n",
       "      <th>Body</th>\n",
       "      <th>Heading</th>\n",
       "      <th>Credibility</th>\n",
       "      <th>Domain</th>\n",
       "    </tr>\n",
       "  </thead>\n",
       "  <tbody>\n",
       "    <tr>\n",
       "      <td>0</td>\n",
       "      <td>yahoo and aol could be extremely popular over ...</td>\n",
       "      <td>breaking news: snapchat to purchase twitter fo...</td>\n",
       "      <td>fake</td>\n",
       "      <td>biz</td>\n",
       "    </tr>\n",
       "    <tr>\n",
       "      <td>1</td>\n",
       "      <td>\"the negotiations we are going great according...</td>\n",
       "      <td>brexit talks are seeing success: josé manuel b...</td>\n",
       "      <td>fake</td>\n",
       "      <td>biz</td>\n",
       "    </tr>\n",
       "    <tr>\n",
       "      <td>2</td>\n",
       "      <td>robots are slowly taking over the workforce of...</td>\n",
       "      <td>robots taking over the world</td>\n",
       "      <td>fake</td>\n",
       "      <td>biz</td>\n",
       "    </tr>\n",
       "    <tr>\n",
       "      <td>3</td>\n",
       "      <td>\"brewdog was recently found to include dog sal...</td>\n",
       "      <td>brewdog under fire for accusations of canine i...</td>\n",
       "      <td>fake</td>\n",
       "      <td>biz</td>\n",
       "    </tr>\n",
       "    <tr>\n",
       "      <td>4</td>\n",
       "      <td>in a ridiculous decision students with disabil...</td>\n",
       "      <td>supreme court forces schools into socialism</td>\n",
       "      <td>fake</td>\n",
       "      <td>edu</td>\n",
       "    </tr>\n",
       "  </tbody>\n",
       "</table>\n",
       "</div>"
      ],
      "text/plain": [
       "                                                Body  \\\n",
       "0  yahoo and aol could be extremely popular over ...   \n",
       "1  \"the negotiations we are going great according...   \n",
       "2  robots are slowly taking over the workforce of...   \n",
       "3  \"brewdog was recently found to include dog sal...   \n",
       "4  in a ridiculous decision students with disabil...   \n",
       "\n",
       "                                             Heading Credibility Domain  \n",
       "0  breaking news: snapchat to purchase twitter fo...        fake    biz  \n",
       "1  brexit talks are seeing success: josé manuel b...        fake    biz  \n",
       "2                       robots taking over the world        fake    biz  \n",
       "3  brewdog under fire for accusations of canine i...        fake    biz  \n",
       "4        supreme court forces schools into socialism        fake    edu  "
      ]
     },
     "execution_count": 584,
     "metadata": {},
     "output_type": "execute_result"
    }
   ],
   "source": [
    "test_data.head()"
   ]
  },
  {
   "cell_type": "code",
   "execution_count": null,
   "metadata": {},
   "outputs": [],
   "source": [
    "test_data['Heading']"
   ]
  },
  {
   "cell_type": "code",
   "execution_count": 585,
   "metadata": {},
   "outputs": [],
   "source": [
    "#shuffling training data\n",
    "def shuffle(df, n=1, axis=1):    \n",
    "    df = df.copy()\n",
    "    for _ in range(n):\n",
    "        df.apply(np.random.shuffle, axis=axis)\n",
    "    return df\n",
    "train_data_shuffled=shuffle(train_data, n=500, axis=1)"
   ]
  },
  {
   "cell_type": "code",
   "execution_count": 586,
   "metadata": {},
   "outputs": [],
   "source": [
    "train_data_shuffled=train_data_shuffled.dropna()\n"
   ]
  },
  {
   "cell_type": "code",
   "execution_count": 587,
   "metadata": {},
   "outputs": [
    {
     "name": "stdout",
     "output_type": "stream",
     "text": [
      "<class 'pandas.core.frame.DataFrame'>\n",
      "Int64Index: 356 entries, 0 to 383\n",
      "Data columns (total 4 columns):\n",
      "Body           356 non-null object\n",
      "Heading        356 non-null object\n",
      "Credibility    356 non-null object\n",
      "Domain         356 non-null object\n",
      "dtypes: object(4)\n",
      "memory usage: 13.9+ KB\n"
     ]
    }
   ],
   "source": [
    "train_data_shuffled.info()"
   ]
  },
  {
   "cell_type": "code",
   "execution_count": 588,
   "metadata": {},
   "outputs": [],
   "source": [
    "#preprocessing\n",
    "from nltk.stem.wordnet import WordNetLemmatizer\n",
    "\n",
    "lemma = WordNetLemmatizer()\n",
    "# remove punctuations\n",
    "def remove_punctuations(data):\n",
    "    \n",
    "    train = []\n",
    "    for i in range(len(data)):\n",
    "        sentence = \"\"\n",
    "        for char in data[i]:\n",
    "            \n",
    "            if char.isalpha() or char== ' ':\n",
    "                sentence+=char\n",
    "            else:\n",
    "                sentence+=' '\n",
    "        train.append(sentence)\n",
    "    return train\n",
    "\n",
    "nlp = spacy.load(\"en\",disable=['parser', 'tagger', 'ner'])\n",
    "\n",
    "def lemmatization(review):\n",
    "    lemma_result = []\n",
    "    \n",
    "    for words in review:\n",
    "        doc = nlp(words)\n",
    "        for token in doc:\n",
    "            lemma_result.append(token.lemma_)\n",
    "\n",
    "    return lemma_result\n",
    "\n",
    "def remove_stopwords(sent):\n",
    "    return [token for token in sent if token not in finalstop]\n",
    "\n",
    "\n",
    "\n"
   ]
  },
  {
   "cell_type": "code",
   "execution_count": 589,
   "metadata": {},
   "outputs": [
    {
     "name": "stdout",
     "output_type": "stream",
     "text": [
      "0      tesco to pay     m fine over accounting scandal\n",
      "1    uber to shut down denmark operation over new t...\n",
      "2    eu blocks deutsche boerse s     billion takeov...\n",
      "3       toshiba s westinghouse files for us bankruptcy\n",
      "4             ford to invest     bn in michigan plants\n",
      "Name: Heading, dtype: object\n"
     ]
    }
   ],
   "source": [
    "train_data_shuffled[\"Heading\"]=train_data_shuffled[\"Heading\"].apply(nltk.word_tokenize)\n",
    "print(train_data_shuffled[\"Heading\"].head())\n",
    "train_data_shuffled[\"Heading\"]=train_data_shuffled[\"Heading\"].apply(lambda x: [lemma.lemmatize(i) for i in x])\n",
    "print(train_data_shuffled[\"Heading\"].head())\n",
    "train_data_shuffled[\"Heading\"]=train_data_shuffled[\"Heading\"].apply(remove_stopwords)\n",
    "print(train_data_shuffled[\"Heading\"].head())\n",
    "train_data_shuffled[\"Heading\"]=train_data_shuffled[\"Heading\"].apply(remove_punctuations).apply(lambda x: ' '.join(word for word in x))\n",
    "print(train_data_shuffled[\"Heading\"].head())"
   ]
  },
  {
   "cell_type": "code",
   "execution_count": 590,
   "metadata": {},
   "outputs": [
    {
     "name": "stdout",
     "output_type": "stream",
     "text": [
      "0    tesco is to pay out     m to settle investigat...\n",
      "1    uber will shut down its operation in denmark n...\n",
      "2    european union regulators dealt a final blow t...\n",
      "3    westinghouse  toshiba s us nuclear unit  has f...\n",
      "4    ford has said it will spend     bn    bn  as p...\n",
      "Name: Body, dtype: object\n"
     ]
    }
   ],
   "source": [
    "# train_data_shuffled[\"Body\"]=train_data_shuffled[\"Body\"].apply(nltk.word_tokenize)\n",
    "# print(train_data_shuffled[\"Body\"].head())\n",
    "# # train_data_shuffled[\"Body\"]=train_data_shuffled[\"Body\"].apply(lambda x: [lemma.lemmatize(i) for i in x])\n",
    "# # print(train_data_shuffled[\"Body\"].head())\n",
    "# train_data_shuffled[\"Body\"]=train_data_shuffled[\"Body\"].apply(remove_stopwords)\n",
    "# print(train_data_shuffled[\"Body\"].head())\n",
    "train_data_shuffled[\"Body\"]=train_data_shuffled[\"Body\"].apply(remove_punctuations).apply(lambda x: ''.join(word for word in x))\n",
    "print(train_data_shuffled[\"Body\"].head())"
   ]
  },
  {
   "cell_type": "code",
   "execution_count": 591,
   "metadata": {},
   "outputs": [
    {
     "name": "stdout",
     "output_type": "stream",
     "text": [
      "0    breaking news  snapchat to purchase twitter fo...\n",
      "1    brexit talks are seeing success  josé manuel b...\n",
      "2                         robots taking over the world\n",
      "3    brewdog under fire for accusations of canine i...\n",
      "4          supreme court forces schools into socialism\n",
      "Name: Heading, dtype: object\n"
     ]
    }
   ],
   "source": [
    "# test_data[\"Heading\"]=test_data[\"Heading\"].apply(nltk.word_tokenize)\n",
    "# print(test_data[\"Heading\"].head())\n",
    "# # test_data[\"Heading\"]=test_data[\"Heading\"].apply(lambda x: [lemma.lemmatize(i) for i in x])\n",
    "# # print(test_data[\"Heading\"].head())\n",
    "# test_data[\"Heading\"]=test_data[\"Heading\"].apply(remove_stopwords)\n",
    "# print(test_data[\"Heading\"].head())\n",
    "test_data[\"Heading\"]=test_data[\"Heading\"].apply(remove_punctuations).apply(lambda x: ''.join(word for word in x))\n",
    "print(test_data[\"Heading\"].head())"
   ]
  },
  {
   "cell_type": "code",
   "execution_count": 592,
   "metadata": {},
   "outputs": [
    {
     "name": "stdout",
     "output_type": "stream",
     "text": [
      "0    yahoo and aol could be extremely popular over ...\n",
      "1     the negotiations we are going great according...\n",
      "2    robots are slowly taking over the workforce of...\n",
      "3     brewdog was recently found to include dog sal...\n",
      "4    in a ridiculous decision students with disabil...\n",
      "Name: Body, dtype: object\n"
     ]
    }
   ],
   "source": [
    "# test_data[\"Body\"]=test_data[\"Body\"].apply(nltk.word_tokenize)\n",
    "# print(test_data[\"Body\"].head())\n",
    "# # test_data[\"Body\"]=test_data[\"Body\"].apply(lambda x: [lemma.lemmatize(i) for i in x])\n",
    "# # print(test_data[\"Body\"].head())\n",
    "# test_data[\"Body\"]=test_data[\"Body\"].apply(remove_stopwords)\n",
    "# print(test_data[\"Body\"].head())\n",
    "test_data[\"Body\"]=test_data[\"Body\"].apply(remove_punctuations).apply(lambda x: ''.join(word for word in x))\n",
    "print(test_data[\"Body\"].head())"
   ]
  },
  {
   "cell_type": "code",
   "execution_count": 608,
   "metadata": {},
   "outputs": [],
   "source": [
    "train_rdh= train_data_shuffled[\"Heading\"].values\n",
    "train_rdb=train_data_shuffled['Body'].values\n",
    "test_rdh=test_data['Heading'].values\n",
    "test_rdb=test_data['Body'].values\n",
    "all_data=train_data_shuffled.append(test_data)"
   ]
  },
  {
   "cell_type": "code",
   "execution_count": 118,
   "metadata": {},
   "outputs": [],
   "source": [
    "def word2vec_embedding_layer(embedding_matrix):\n",
    "    \n",
    "    layer = Embedding(input_dim=embedding_matrix.shape[0], output_dim=embedding_matrix.shape[1], weights=[embedding_matrix])\n",
    "    return layer    "
   ]
  },
  {
   "cell_type": "code",
   "execution_count": 728,
   "metadata": {},
   "outputs": [],
   "source": [
    "def generateMatrix(obj, sent_Q, sent_A,wordVec_model=None):\n",
    "    START = '$_START_$'\n",
    "    END = '$_END_$'\n",
    "    unk_token = '$_UNK_$'\n",
    "    dimx = 80\n",
    "    dimy = 150\n",
    "    sent1 = []\n",
    "    #sent1_Q = ques_sent\n",
    "    #sent1_A = ans_sent\n",
    "    sent1.extend(sent_Q)\n",
    "    #sent.extend(ques_sent)\n",
    "    sent1.extend(sent_A)\n",
    "    #sent1 = [' '.join(i) for i in sent1]\n",
    "    #sent.extend(ans_sent)\n",
    "    sentence = [\"%s %s %s\" % (START,x,END) for x in sent1]\n",
    "    tokenize_sent = [regexp_tokenize(x, \n",
    "                                     pattern = '\\w+|$[\\d\\.]+|\\S+') for x in sentence]\n",
    "\n",
    "        \n",
    "    for i,sent in enumerate(tokenize_sent):\n",
    "        tokenize_sent[i] = [w if w in obj.word_to_index else unk_token for w in sent]\n",
    "        \n",
    "    len_train = len(sent_Q)\n",
    "    text=[]\n",
    "    for i in tokenize_sent:\n",
    "        text.extend(i)\n",
    "        \n",
    "    sentences_x = []\n",
    "    sentences_y = []\n",
    "        \n",
    "        #print 'here' \n",
    "        \n",
    "    for sent in tokenize_sent[0:len_train]:\n",
    "        temp = [START for i in range(dimx)]\n",
    "        for ind,word in enumerate(sent[0:dimx]):\n",
    "            temp[ind] = word\n",
    "        sentences_x.append(temp)\n",
    "            \n",
    "    for sent in tokenize_sent[len_train:]:\n",
    "        temp = [START for i in range(dimy)]\n",
    "        for ind,word in enumerate(sent[0:dimy]):\n",
    "            temp[ind] = word       \n",
    "        sentences_y.append(temp)\n",
    "            \n",
    "    X_data = []\n",
    "    for i in sentences_x:\n",
    "        temp = []\n",
    "        for j in i:\n",
    "            temp.append(obj.word_to_index[j])\n",
    "        temp = np.array(temp).T\n",
    "        X_data.append(temp)\n",
    "        \n",
    "    y_data=[]\n",
    "    for i in sentences_y:\n",
    "        temp = []\n",
    "        for j in i:\n",
    "            temp.append(obj.word_to_index[j])\n",
    "        temp = np.array(temp).T\n",
    "        y_data.append(temp)\n",
    "    X_data = np.array(X_data)\n",
    "    y_data = np.array(y_data)\n",
    "    \n",
    "    return X_data, y_data"
   ]
  },
  {
   "cell_type": "markdown",
   "metadata": {},
   "source": [
    "### Google news embeddings"
   ]
  },
  {
   "cell_type": "code",
   "execution_count": null,
   "metadata": {},
   "outputs": [],
   "source": [
    "path=\"C:\\\\Users\\\\anh21\\\\Fake_news\\\\fake news challenge (FNC-1)\\\\\"\n",
    "wordVec_model = gen.models.KeyedVectors.load_word2vec_format(\"C:\\\\Users\\\\anh21\\\\Fake_news\\\\fake news challenge (FNC-1)\\\\fncdata\\\\GoogleNews-vectors-negative300.bin\",binary=True)"
   ]
  },
  {
   "cell_type": "code",
   "execution_count": 594,
   "metadata": {},
   "outputs": [],
   "source": [
    "\n",
    "\n",
    "def trainCNN(obj, dataset_headLines, dataset_body,num_outs):\n",
    "    embedding_dim = 300\n",
    "    dense_neuron = 16\n",
    "    dimx = 80\n",
    "    dimy = 150\n",
    "    filter_length = 4\n",
    "    batch_size = 50\n",
    "   \n",
    "    train_head,train_body,embedding_matrix = obj.process_data(sent_Q=dataset_headLines,\n",
    "                                                     sent_A=dataset_body,dimx=dimx,dimy=dimy,\n",
    "                                                     wordVec_model = wordVec_model)    \n",
    "    inpx = Input(shape=(dimx,),dtype='int32',name='inpx')\n",
    "    #x = Embedding(output_dim=embedding_dim, input_dim=vocab_size, input_length=dimx)(inpx)\n",
    "    x = word2vec_embedding_layer(embedding_matrix)(inpx)  \n",
    "    inpy = Input(shape=(dimy,),dtype='int32',name='inpy')\n",
    "    #y = Embedding(output_dim=embedding_dim, input_dim=vocab_size, input_length=dimy)(inpy)\n",
    "    y = word2vec_embedding_layer(embedding_matrix)(inpy)\n",
    "    \n",
    "    ques = Convolution1D(filters=100, kernel_size=filter_length,\n",
    "                         padding='same', activation='relu'\n",
    "                         )(x)\n",
    "                            \n",
    "    ans = Convolution1D(filters=100, kernel_size=filter_length,\n",
    "                        padding='same', activation='relu')(y)\n",
    "            \n",
    "    hx = GlobalMaxPooling1D()(ques)\n",
    "    hy = GlobalMaxPooling1D()(ans)\n",
    "\n",
    "    h1 = Multiply()([hx,hy])\n",
    "    h2 = Abs()([hx,hy])\n",
    "\n",
    "    h =  merge.Concatenate()([h1,h2])\n",
    " \n",
    "    wrap = Dense(dense_neuron, activation='relu',name='wrap')(h)\n",
    "    #Dropout_layer = layers.Dropout(0.1)(wrap)\n",
    "    \n",
    "    score = Dense(num_outs,activation='softmax',name='score')(wrap)\n",
    "\n",
    "    model = Model( [inpx,inpy],score)\n",
    "    model.compile( loss='categorical_crossentropy',optimizer=\"adadelta\",metrics=[categorical_accuracy])    \n",
    "    return model,train_head,train_body\n",
    "\n",
    "\n"
   ]
  },
  {
   "cell_type": "code",
   "execution_count": 389,
   "metadata": {},
   "outputs": [],
   "source": [
    "def f1(y_true, y_pred):\n",
    "    def recall(y_true, y_pred):\n",
    "        \"\"\"Recall metric.\n",
    "\n",
    "        Only computes a batch-wise average of recall.\n",
    "\n",
    "        Computes the recall, a metric for multi-label classification of\n",
    "        how many relevant items are selected.\n",
    "        \"\"\"\n",
    "        true_positives = K.sum(K.round(K.clip(y_true * y_pred, 0, 1)))\n",
    "        possible_positives = K.sum(K.round(K.clip(y_true, 0, 1)))\n",
    "        recall = true_positives / (possible_positives + K.epsilon())\n",
    "        return recall\n",
    "\n",
    "    def precision(y_true, y_pred):\n",
    "        \"\"\"Precision metric.\n",
    "\n",
    "        Only computes a batch-wise average of precision.\n",
    "\n",
    "        Computes the precision, a metric for multi-label classification of\n",
    "        how many selected items are relevant.\n",
    "        \"\"\"\n",
    "        true_positives = K.sum(K.round(K.clip(y_true * y_pred, 0, 1)))\n",
    "        predicted_positives = K.sum(K.round(K.clip(y_pred, 0, 1)))\n",
    "        precision = true_positives / (predicted_positives + K.epsilon())\n",
    "        return precision\n",
    "    precision = precision(y_true, y_pred)\n",
    "    recall = recall(y_true, y_pred)\n",
    "    return 2*((precision*recall)/(precision+recall+K.epsilon()))"
   ]
  },
  {
   "cell_type": "code",
   "execution_count": 485,
   "metadata": {},
   "outputs": [],
   "source": [
    "import random\n",
    "import warnings\n",
    "import itertools\n",
    "import keras.backend as K\n",
    "import scipy.stats as measures\n",
    "from gensim.models import word2vec\n",
    "from scipy.stats.stats import pearsonr\n",
    "from keras.engine.topology import Layer\n",
    "from nltk.tokenize import regexp_tokenize\n",
    "from sklearn.metrics.pairwise import cosine_similarity\n",
    "warnings.simplefilter(\"ignore\")\n",
    "\n",
    "START = '$_START_$'\n",
    "END = '$_END_$'\n",
    "unk_token = '$_UNK_$'\n",
    "\n",
    "#wordVec_model = word2vec.Word2Vec.load_word2vec_format(\"GoogleNews-vectors-negative300.bin.gz\",binary=True)\n",
    "class sample:\n",
    "    def __init__(self,vocab_size):\n",
    "        print(\"Inside utility\")\n",
    "    def process_data(self,sent_Q,sent_A,wordVec_model=None,dimx=100,dimy=100,vocab_size=5200,embedding_dim=300):\n",
    "    #if True:\n",
    "        sent1 = []\n",
    "        sent1.extend(sent_Q)\n",
    "        sent1.extend(sent_A)\n",
    "        sentence = [\"%s %s %s\" % (START,x,END) for x in sent1]\n",
    "        self.tokenize_sent = [regexp_tokenize(x, \n",
    "                                         pattern = '\\w+|$[\\d\\.]+|\\S+') for x in sentence]\n",
    "                        \n",
    "        freq = nltk.FreqDist(itertools.chain(*self.tokenize_sent))\n",
    "        print('found ',len(freq),' unique words')\n",
    "        \n",
    "        vocab = freq.most_common(vocab_size - 1)\n",
    "        self.index_to_word = [x[0] for x in vocab]\n",
    "        self.index_to_word.append(unk_token)\n",
    "    \n",
    "        \n",
    "        self.word_to_index = dict([(w,i) for i,w in enumerate(self.index_to_word)])\n",
    "       \n",
    "  \n",
    "        for i,sent in enumerate(self.tokenize_sent):\n",
    "            self.tokenize_sent[i] = [w if w in self.word_to_index else unk_token for w in sent]\n",
    "        \n",
    "        self.len_train = len(sent_Q)\n",
    "#        text=[]\n",
    "#        for i in self.tokenize_sent:\n",
    "#            text.extend(i)\n",
    "        \n",
    "        self.sentences_x = []\n",
    "        self.sentences_y = []\n",
    "        \n",
    "        #print 'here' \n",
    "        \n",
    "        for sent in self.tokenize_sent[0:self.len_train]:\n",
    "            temp = [START for i in range(dimx)]\n",
    "            for ind,word in enumerate(sent[0:dimx]):\n",
    "                temp[ind] = word\n",
    "            self.sentences_x.append(temp)\n",
    "        # before this loop remove stop words     \n",
    "        for sent in self.tokenize_sent[self.len_train:]:\n",
    "            temp = [START for i in range(dimy)]\n",
    "            for ind,word in enumerate(sent[0:dimy]):\n",
    "                temp[ind] = word       \n",
    "            self.sentences_y.append(temp)\n",
    "            \n",
    "        X_data = []\n",
    "        for i in self.sentences_x:\n",
    "            temp = []\n",
    "            for j in i:\n",
    "                temp.append(self.word_to_index[j])\n",
    "            temp = np.array(temp).T\n",
    "            X_data.append(temp)\n",
    "        \n",
    "        y_data=[]\n",
    "        for i in self.sentences_y:\n",
    "            temp = []\n",
    "            for j in i:\n",
    "                temp.append(self.word_to_index[j])\n",
    "            temp = np.array(temp).T\n",
    "            y_data.append(temp)\n",
    "        \n",
    "        X_data = np.array(X_data)\n",
    "        y_data = np.array(y_data)\n",
    "        \n",
    "        #model = gen.models.Word2Vec.load('Word2Vec_QA')  \n",
    "       # pdb.set_trace()\n",
    "        embedding_matrix = np.zeros((len(self.index_to_word)+1,embedding_dim))  \n",
    "        \n",
    "        unk = []\n",
    "        for i,j in enumerate(self.index_to_word):\n",
    "            try:\n",
    "                embedding_matrix[i] = wordVec_model[j]\n",
    "            except:\n",
    "                #embedding_matrix[i] = np.zeros_like()\n",
    "                \n",
    "                unk.append(j)\n",
    "                continue\n",
    "        print('number of unkown words: ',len(unk))\n",
    "        print('some unknown words ',unk[0:5])\n",
    "        return X_data,y_data,embedding_matrix"
   ]
  },
  {
   "cell_type": "code",
   "execution_count": 109,
   "metadata": {},
   "outputs": [],
   "source": [
    "dimx=len(train_data_shuffled['Heading'].max())\n",
    "dimy=len(train_data_shuffled['Body'].max())"
   ]
  },
  {
   "cell_type": "code",
   "execution_count": null,
   "metadata": {},
   "outputs": [],
   "source": [
    "domains = ['biz', 'edu',\"entmt\",\"polit\",\"sports\",\"tech\"]\n",
    "def evaluation(y_test,y_pred,target_names):\n",
    "    y_pred=np.argmax(y_pred,axis=1) \n",
    "    y_test=np.argmax(y_test,axis=1)\n",
    "\n",
    "    print()\n",
    "    print(classification_report(y_test, y_pred, target_names=target_names))\n",
    "\n",
    "def confusion_mat( y_test,y_pred,LABELS):\n",
    "    y_pred=np.argmax(y_pred,axis=1) \n",
    "    y_test=np.argmax(y_test,axis=1)\n",
    "    c=confusion_matrix(y_test, y_pred)\n",
    "    plt.figure(figsize=(10, 6))\n",
    "    sns.heatmap(c, xticklabels=LABELS, yticklabels=LABELS, annot=True, fmt=\"d\");\n",
    "    plt.title(\"Confusion matrix\")\n",
    "    plt.ylabel('True label')\n",
    "    plt.xlabel('Predicted label')\n",
    "    plt.show()\n",
    "def plot_results(history):   \n",
    "    plt.figure(figsize=(8,4))\n",
    "    plt.plot(history.history['f1'])\n",
    "    plt.plot(history.history['val_f1'])\n",
    "    plt.title('Model Accuracy')\n",
    "    plt.ylabel('accuracy')\n",
    "    plt.xlabel('epochs')\n",
    "    plt.legend(['train', 'test'], loc='upper left')\n",
    "    plt.show()\n",
    "    plt.figure(figsize=(8,4))\n",
    "    # summarize history for loss\n",
    "    plt.plot(history.history['loss'])\n",
    "    plt.plot(history.history['val_loss'])\n",
    "    plt.title('Model Loss')\n",
    "    plt.ylabel('loss')\n",
    "    plt.xlabel('epochs')\n",
    "    plt.legend(['train', 'test'], loc='upper left')\n",
    "    plt.show()"
   ]
  },
  {
   "cell_type": "markdown",
   "metadata": {},
   "source": [
    "##### Domain of the news prediction"
   ]
  },
  {
   "cell_type": "code",
   "execution_count": 604,
   "metadata": {},
   "outputs": [
    {
     "name": "stdout",
     "output_type": "stream",
     "text": [
      "Inside utility\n",
      "Training CNN\n",
      "found  6038  unique words\n",
      "number of unkown words:  291\n",
      "some unknown words  ['to', 'a', 'of', 'and', '$_START_$']\n"
     ]
    }
   ],
   "source": [
    "#%%\n",
    "obj=sample(6000)\n",
    "print(\"Training CNN\")\n",
    "model,tr_head,tr_body = trainCNN(obj, train_rdh,train_rdb,6)"
   ]
  },
  {
   "cell_type": "code",
   "execution_count": 605,
   "metadata": {},
   "outputs": [
    {
     "name": "stdout",
     "output_type": "stream",
     "text": [
      "Epoch 1/4\n",
      "356/356 [==============================] - ETA: 1:20 - loss: 1.7704 - categorical_accuracy: 0.18 - ETA: 14s - loss: 1.7736 - categorical_accuracy: 0.2344 - ETA: 3s - loss: 1.7454 - categorical_accuracy: 0.277 - 8s 23ms/step - loss: 1.7133 - categorical_accuracy: 0.3174\n",
      "Epoch 2/4\n",
      "356/356 [==============================] - ETA: 0s - loss: 1.3869 - categorical_accuracy: 0.50 - ETA: 0s - loss: 1.2434 - categorical_accuracy: 0.62 - ETA: 0s - loss: 1.1706 - categorical_accuracy: 0.68 - 0s 471us/step - loss: 1.1601 - categorical_accuracy: 0.6826\n",
      "Epoch 3/4\n",
      "356/356 [==============================] - ETA: 0s - loss: 0.7568 - categorical_accuracy: 1.00 - ETA: 0s - loss: 0.6624 - categorical_accuracy: 0.97 - ETA: 0s - loss: 0.6199 - categorical_accuracy: 0.97 - 0s 479us/step - loss: 0.5934 - categorical_accuracy: 0.9803\n",
      "Epoch 4/4\n",
      "356/356 [==============================] - ETA: 0s - loss: 0.3479 - categorical_accuracy: 1.00 - ETA: 0s - loss: 0.2798 - categorical_accuracy: 1.00 - ETA: 0s - loss: 0.2469 - categorical_accuracy: 1.00 - 0s 501us/step - loss: 0.2338 - categorical_accuracy: 1.0000\n",
      "\n",
      " model trained....\n",
      "\n"
     ]
    }
   ],
   "source": [
    "Y_train = np.asarray(pd.get_dummies(train_data_shuffled['Domain'].values), dtype = np.float32)\n",
    "Y_test = np.asarray(pd.get_dummies(test_data['Domain'].values), dtype = np.float32)\n",
    "\n",
    "hist=model.fit([tr_head,tr_body],Y_train, nb_epoch = 4,verbose=1)\n",
    "ts_head, ts_body = generateMatrix(obj,test_rdh, test_rdb)\n",
    "print ('\\n model trained....\\n')\n",
    "predictions = model.predict([ts_head, ts_body])\n",
    "predictions = np.array(predictions)"
   ]
  },
  {
   "cell_type": "code",
   "execution_count": 606,
   "metadata": {},
   "outputs": [
    {
     "name": "stdout",
     "output_type": "stream",
     "text": [
      "\n",
      "              precision    recall  f1-score   support\n",
      "\n",
      "         biz       0.53      1.00      0.70         8\n",
      "         edu       1.00      1.00      1.00         8\n",
      "       entmt       0.62      0.62      0.62         8\n",
      "       polit       1.00      1.00      1.00         8\n",
      "      sports       1.00      0.75      0.86         8\n",
      "        tech       1.00      0.38      0.55         8\n",
      "\n",
      "    accuracy                           0.79        48\n",
      "   macro avg       0.86      0.79      0.79        48\n",
      "weighted avg       0.86      0.79      0.79        48\n",
      "\n"
     ]
    }
   ],
   "source": [
    "evaluation(Y_test,predictions,domains)"
   ]
  },
  {
   "cell_type": "code",
   "execution_count": 607,
   "metadata": {},
   "outputs": [
    {
     "data": {
      "image/png": "[encoded data removed]",
      "text/plain": [
       "<Figure size 720x432 with 2 Axes>"
      ]
     },
     "metadata": {
      "needs_background": "light"
     },
     "output_type": "display_data"
    }
   ],
   "source": [
    " confusion_mat(Y_test,predictions,domains)"
   ]
  },
  {
   "cell_type": "markdown",
   "metadata": {},
   "source": [
    "#### Credibility prediction"
   ]
  },
  {
   "cell_type": "code",
   "execution_count": 571,
   "metadata": {},
   "outputs": [
    {
     "name": "stdout",
     "output_type": "stream",
     "text": [
      "found  5835  unique words\n",
      "number of unkown words:  299\n",
      "some unknown words  ['$_START_$', '$_END_$', 'westinghouse', 'brexit', 'boerse']\n",
      "Epoch 1/4\n",
      "356/356 [==============================] - ETA: 1:15 - loss: 0.6525 - f1: 0.62 - ETA: 13s - loss: 0.6972 - f1: 0.5547 - ETA: 2s - loss: 0.7024 - f1: 0.500 - 8s 21ms/step - loss: 0.7038 - f1: 0.5028\n",
      "Epoch 2/4\n",
      "356/356 [==============================] - ETA: 0s - loss: 0.5151 - f1: 0.87 - ETA: 0s - loss: 0.5034 - f1: 0.95 - ETA: 0s - loss: 0.4826 - f1: 0.95 - 0s 471us/step - loss: 0.4772 - f1: 0.9551\n",
      "Epoch 3/4\n",
      "356/356 [==============================] - ETA: 0s - loss: 0.3840 - f1: 1.00 - ETA: 0s - loss: 0.3246 - f1: 0.99 - ETA: 0s - loss: 0.3095 - f1: 0.97 - 0s 465us/step - loss: 0.3059 - f1: 0.9691\n",
      "Epoch 4/4\n",
      "356/356 [==============================] - ETA: 0s - loss: 0.2137 - f1: 1.00 - ETA: 0s - loss: 0.1930 - f1: 0.98 - ETA: 0s - loss: 0.1734 - f1: 0.98 - 0s 460us/step - loss: 0.1686 - f1: 0.9888\n"
     ]
    }
   ],
   "source": [
    "def trainCNN(obj, dataset_headLines, dataset_body,num_outs):\n",
    "    embedding_dim = 300\n",
    "    dense_neuron = 16\n",
    "    dimx = 80\n",
    "    dimy = 150\n",
    "    filter_length = 4\n",
    "    batch_size = 64\n",
    "    ntn_out = 16\n",
    "\n",
    "    \n",
    "    \n",
    "    train_head,train_body,embedding_matrix = obj.process_data(sent_Q=dataset_headLines,\n",
    "                                                     sent_A=dataset_body,dimx=dimx,dimy=dimy,\n",
    "                                                     wordVec_model = wordVec_model)    \n",
    "    inpx = Input(shape=(dimx,),dtype='int32',name='inpx')\n",
    "    #x = Embedding(output_dim=embedding_dim, input_dim=vocab_size, input_length=dimx)(inpx)\n",
    "    x = word2vec_embedding_layer(embedding_matrix)(inpx)  \n",
    "    inpy = Input(shape=(dimy,),dtype='int32',name='inpy')\n",
    "    #y = Embedding(output_dim=embedding_dim, input_dim=vocab_size, input_length=dimy)(inpy)\n",
    "    y = word2vec_embedding_layer(embedding_matrix)(inpy)\n",
    "    ques = Convolution1D(filters=64, kernel_size=filter_length,\n",
    "                         padding='same', activation='relu',\n",
    "                         subsample_length=1)(x)\n",
    "                            \n",
    "    ans = Convolution1D(filters=64, kernel_size=filter_length,\n",
    "                        padding='same', activation='relu',\n",
    "                        subsample_length=1)(y)\n",
    "            \n",
    "    hx = GlobalMaxPooling1D()(ques)\n",
    "    hy = GlobalMaxPooling1D()(ans)\n",
    "\n",
    "    h1 = Multiply()([hx,hy])\n",
    "    h2 = Abs()([hx,hy])\n",
    "\n",
    "    h =  merge.Concatenate()([h1,h2])\n",
    "    wrap = Dense(dense_neuron, activation='relu',name='wrap')(h)\n",
    "    Dropout_layer = layers.Dropout(0.1)(wrap)\n",
    "    score = Dense(num_outs,activation='softmax',name='score')(wrap)\n",
    "    model = Model( [inpx,inpy],score)\n",
    "    model.compile( loss='categorical_crossentropy',optimizer=\"adam\",metrics=[f1])    \n",
    "    return model,train_head,train_body\n",
    "# predicting the cridibility of the news\n",
    "model,tr_head,tr_body = trainCNN(obj, train_rdh,train_rdb,2)\n",
    "Y_train = np.asarray(pd.get_dummies(train_data_shuffled['Credibility'].values), dtype = np.float32)\n",
    "Y_test = np.asarray(pd.get_dummies(test_data['Credibility'].values), dtype = np.float32)\n",
    "\n",
    "model.fit([tr_head,tr_body],Y_train, nb_epoch =4 ,verbose=1)\n",
    "ts_head, ts_body = generateMatrix(obj,test_rdh, test_rdb)\n",
    "predictions = model.predict([ts_head, ts_body])"
   ]
  },
  {
   "cell_type": "code",
   "execution_count": 572,
   "metadata": {},
   "outputs": [
    {
     "name": "stdout",
     "output_type": "stream",
     "text": [
      "\n",
      "              precision    recall  f1-score   support\n",
      "\n",
      "           l       0.59      0.42      0.49        24\n",
      "           f       0.55      0.71      0.62        24\n",
      "\n",
      "    accuracy                           0.56        48\n",
      "   macro avg       0.57      0.56      0.55        48\n",
      "weighted avg       0.57      0.56      0.55        48\n",
      "\n"
     ]
    }
   ],
   "source": [
    "predictions = np.array(predictions)\n",
    "evaluation(Y_test,predictions,['l','f'])"
   ]
  },
  {
   "cell_type": "markdown",
   "metadata": {},
   "source": [
    "### Fast Text Embeddings"
   ]
  },
  {
   "cell_type": "code",
   "execution_count": 182,
   "metadata": {},
   "outputs": [],
   "source": [
    "import string\n",
    "# load the pre-trained word-embedding vectors \n",
    "embeddings_index = {}\n",
    "for i, line in enumerate(open(path+'fncdata\\\\crawl-300d-2M.vec',encoding='utf-8')):\n",
    "    values = line.split()\n",
    "    embeddings_index[values[0]] = np.asarray(values[1:], dtype='float32')"
   ]
  },
  {
   "cell_type": "code",
   "execution_count": 569,
   "metadata": {},
   "outputs": [
    {
     "name": "stdout",
     "output_type": "stream",
     "text": [
      "found  5835  unique words\n",
      "number of unkown words:  105\n",
      "some unknown words  ['$_START_$', '$_END_$', 'boerse', 'tencent', 'calipari']\n",
      "Epoch 1/4\n",
      "356/356 [==============================] - ETA: 1:17 - loss: 0.7091 - f1: 0.53 - ETA: 9s - loss: 0.7003 - f1: 0.5125 - ETA: 1s - loss: 0.7022 - f1: 0.52 - 8s 22ms/step - loss: 0.7043 - f1: 0.5225\n",
      "Epoch 2/4\n",
      "356/356 [==============================] - ETA: 0s - loss: 0.6060 - f1: 0.65 - ETA: 0s - loss: 0.6044 - f1: 0.68 - ETA: 0s - loss: 0.5880 - f1: 0.73 - 0s 459us/step - loss: 0.5855 - f1: 0.7444\n",
      "Epoch 3/4\n",
      "356/356 [==============================] - ETA: 0s - loss: 0.4472 - f1: 1.00 - ETA: 0s - loss: 0.4548 - f1: 0.95 - ETA: 0s - loss: 0.4558 - f1: 0.93 - 0s 451us/step - loss: 0.4573 - f1: 0.9298\n",
      "Epoch 4/4\n",
      "356/356 [==============================] - ETA: 0s - loss: 0.3043 - f1: 1.00 - ETA: 0s - loss: 0.3041 - f1: 0.97 - ETA: 0s - loss: 0.3053 - f1: 0.97 - 0s 457us/step - loss: 0.3046 - f1: 0.9803\n"
     ]
    }
   ],
   "source": [
    "# predicting the cridibility of the news\n",
    "def trainCNN(obj, dataset_headLines, dataset_body,num_outs):\n",
    "    embedding_dim = 300\n",
    "    dense_neuron = 16\n",
    "    dimx = 80\n",
    "    dimy = 150\n",
    "    filter_length = 4\n",
    "    batch_size = 64\n",
    "    ntn_out = 16\n",
    "\n",
    "    train_head,train_body,embedding_matrix = obj.process_data(sent_Q=dataset_headLines,\n",
    "                                                     sent_A=dataset_body,dimx=dimx,dimy=dimy,\n",
    "                                                     wordVec_model = embeddings_index)    \n",
    "    inpx = Input(shape=(dimx,),dtype='int32',name='inpx')\n",
    "    #x = Embedding(output_dim=embedding_dim, input_dim=vocab_size, input_length=dimx)(inpx)\n",
    "    x = word2vec_embedding_layer(embedding_matrix)(inpx)  \n",
    "    inpy = Input(shape=(dimy,),dtype='int32',name='inpy')\n",
    "    #y = Embedding(output_dim=embedding_dim, input_dim=vocab_size, input_length=dimy)(inpy)\n",
    "    y = word2vec_embedding_layer(embedding_matrix)(inpy)\n",
    "    ques = Convolution1D(filters=64, kernel_size=filter_length,\n",
    "                         padding='same', activation='relu',\n",
    "                         subsample_length=1)(x)\n",
    "                            \n",
    "    ans = Convolution1D(filters=64, kernel_size=filter_length,\n",
    "                        padding='same', activation='relu',\n",
    "                        subsample_length=1)(y)\n",
    "            \n",
    "    hx = GlobalMaxPooling1D()(ques)\n",
    "    hy = GlobalMaxPooling1D()(ans)\n",
    "\n",
    "    h1 = Multiply()([hx,hy])\n",
    "    h2 = Abs()([hx,hy])\n",
    "\n",
    "    h =  merge.Concatenate()([h1,h2])\n",
    "    wrap = Dense(dense_neuron, activation='relu',name='wrap')(h)\n",
    "   # Dropout_layer = layers.Dropout(0.1)(wrap)\n",
    "    score = Dense(num_outs,activation='softmax',name='score')(wrap)\n",
    "    model = Model( [inpx,inpy],score)\n",
    "    model.compile( loss='categorical_crossentropy',optimizer=\"adam\",metrics=[f1])    \n",
    " \n",
    "    return model,train_head,train_body\n",
    "\n",
    "\n",
    "model,tr_head,tr_body = trainCNN(obj, train_rdh,train_rdb,2)\n",
    "Y_train = np.asarray(pd.get_dummies(train_data_shuffled['Credibility'].values), dtype = np.float32)\n",
    "Y_test = np.asarray(pd.get_dummies(test_data['Credibility'].values), dtype = np.float32)\n",
    "\n",
    "model.fit([tr_head,tr_body],Y_train, nb_epoch =4,verbose=1)\n",
    "predictions = model.predict([ts_head, ts_body])"
   ]
  },
  {
   "cell_type": "code",
   "execution_count": 570,
   "metadata": {},
   "outputs": [
    {
     "name": "stdout",
     "output_type": "stream",
     "text": [
      "\n",
      "              precision    recall  f1-score   support\n",
      "\n",
      "           l       0.58      0.62      0.60        24\n",
      "           f       0.59      0.54      0.57        24\n",
      "\n",
      "    accuracy                           0.58        48\n",
      "   macro avg       0.58      0.58      0.58        48\n",
      "weighted avg       0.58      0.58      0.58        48\n",
      "\n"
     ]
    }
   ],
   "source": [
    "predictions = np.array(predictions)\n",
    "evaluation(Y_test,predictions,['l','f'])"
   ]
  },
  {
   "cell_type": "markdown",
   "metadata": {},
   "source": [
    "### Bidirectional LSTM model"
   ]
  },
  {
   "cell_type": "code",
   "execution_count": 364,
   "metadata": {},
   "outputs": [
    {
     "name": "stdout",
     "output_type": "stream",
     "text": [
      "found  6028  unique words\n",
      "number of unkown words:  100\n",
      "some unknown words  ['$_START_$', '$_END_$', 'boerse', 'tencent', 'calipari']\n",
      "Train on 356 samples, validate on 48 samples\n",
      "Epoch 1/8\n",
      "356/356 [==============================] - ETA: 44s - loss: 0.7022 - f1: 0.500 - ETA: 3s - loss: 0.7157 - f1: 0.458 - ETA: 0s - loss: 0.7122 - f1: 0.48 - 5s 15ms/step - loss: 0.7115 - f1: 0.4831 - val_loss: 0.6936 - val_f1: 0.5417\n",
      "Epoch 2/8\n",
      "356/356 [==============================] - ETA: 0s - loss: 0.6078 - f1: 0.78 - ETA: 0s - loss: 0.6320 - f1: 0.69 - ETA: 0s - loss: 0.6233 - f1: 0.69 - 0s 395us/step - loss: 0.6239 - f1: 0.6966 - val_loss: 0.6901 - val_f1: 0.5625\n",
      "Epoch 3/8\n",
      "356/356 [==============================] - ETA: 0s - loss: 0.5458 - f1: 0.87 - ETA: 0s - loss: 0.5452 - f1: 0.85 - ETA: 0s - loss: 0.5414 - f1: 0.84 - 0s 389us/step - loss: 0.5393 - f1: 0.8511 - val_loss: 0.6894 - val_f1: 0.5208\n",
      "Epoch 4/8\n",
      "356/356 [==============================] - ETA: 0s - loss: 0.4633 - f1: 0.93 - ETA: 0s - loss: 0.4476 - f1: 0.93 - ETA: 0s - loss: 0.4538 - f1: 0.92 - 0s 392us/step - loss: 0.4536 - f1: 0.9242 - val_loss: 0.6807 - val_f1: 0.5833\n",
      "Epoch 5/8\n",
      "356/356 [==============================] - ETA: 0s - loss: 0.3565 - f1: 0.90 - ETA: 0s - loss: 0.3521 - f1: 0.94 - ETA: 0s - loss: 0.3404 - f1: 0.96 - 0s 387us/step - loss: 0.3426 - f1: 0.9579 - val_loss: 0.6755 - val_f1: 0.6042\n",
      "Epoch 6/8\n",
      "356/356 [==============================] - ETA: 0s - loss: 0.2689 - f1: 0.96 - ETA: 0s - loss: 0.2608 - f1: 0.96 - ETA: 0s - loss: 0.2521 - f1: 0.97 - 0s 401us/step - loss: 0.2520 - f1: 0.9719 - val_loss: 0.6678 - val_f1: 0.6042\n",
      "Epoch 7/8\n",
      "356/356 [==============================] - ETA: 0s - loss: 0.1973 - f1: 1.00 - ETA: 0s - loss: 0.1716 - f1: 0.99 - ETA: 0s - loss: 0.1624 - f1: 0.99 - 0s 392us/step - loss: 0.1616 - f1: 0.9916 - val_loss: 0.6719 - val_f1: 0.6250\n",
      "Epoch 8/8\n",
      "356/356 [==============================] - ETA: 0s - loss: 0.1166 - f1: 0.96 - ETA: 0s - loss: 0.1309 - f1: 0.97 - ETA: 0s - loss: 0.1188 - f1: 0.98 - 0s 406us/step - loss: 0.1181 - f1: 0.9860 - val_loss: 0.6909 - val_f1: 0.6250\n",
      "\n",
      "              precision    recall  f1-score   support\n",
      "\n",
      "           l       0.62      0.67      0.64        24\n",
      "           f       0.64      0.58      0.61        24\n",
      "\n",
      "    accuracy                           0.62        48\n",
      "   macro avg       0.63      0.62      0.62        48\n",
      "weighted avg       0.63      0.62      0.62        48\n",
      "\n"
     ]
    }
   ],
   "source": [
    "# predicting the cridibility of the news\n",
    "def trainBiLSTM(obj, dataset_headLines, dataset_body,num_outs):\n",
    "    embedding_dim = 300\n",
    "    dense_neuron = 16\n",
    "    dimx = 70\n",
    "    dimy = 110\n",
    "    batch_size = 32\n",
    "    LSTM_neurons=32\n",
    "\n",
    "    train_head,train_body,embedding_matrix = obj.process_data(sent_Q=dataset_headLines,\n",
    "                                                     sent_A=dataset_body,dimx=dimx,dimy=dimy,\n",
    "                                                     wordVec_model = embeddings_index)    \n",
    "    inpx = Input(shape=(dimx,),dtype='int32',name='inpx')\n",
    "    #x = Embedding(output_dim=embedding_dim, input_dim=vocab_size, input_length=dimx)(inpx)\n",
    "    x = word2vec_embedding_layer(embedding_matrix)(inpx)  \n",
    "    inpy = Input(shape=(dimy,),dtype='int32',name='inpy')\n",
    "    #y = Embedding(output_dim=embedding_dim, input_dim=vocab_size, input_length=dimy)(inpy)\n",
    "    y = word2vec_embedding_layer(embedding_matrix)(inpy)\n",
    "    shared_lstm = Bidirectional(LSTM(LSTM_neurons,return_sequences=True),merge_mode='sum')   \n",
    "    #shared_lstm = LSTM(LSTM_neurons,return_sequences=True)    \n",
    "    hx = shared_lstm(x)\n",
    "    #hx = Dropout(0.1)(hx)\n",
    "    hy = shared_lstm(y)\n",
    "    #hy = Dropout(0.1)(hy)\n",
    "    \n",
    "    h1 = Multiply()([hx,hy])\n",
    "    h2 = Abs()([hx,hy])\n",
    "\n",
    "    h =  merge.Concatenate()([h1,h2,hy])\n",
    "    wrap = layers.TimeDistributed(Dense(dense_neuron, activation='relu',name='wrap'))(h)\n",
    "    Dropout_layer = layers.Dropout(0.2)(wrap)\n",
    "    score = layers.TimeDistributed(Dense(num_outs,activation='softmax',name='score'))(Dropout_layer)\n",
    "    model = Model( [inpx,inpy],score)\n",
    "    model.compile( loss='categorical_crossentropy',optimizer=\"adam\",metrics=[f1])    \n",
    " \n",
    "    return model,train_head,train_body\n",
    "\n",
    "\n",
    "model,tr_head,tr_body = trainCNN(obj, train_rdh,train_rdb,2)\n",
    "Y_train = np.asarray(pd.get_dummies(train_data_shuffled['Credibility'].values), dtype = np.float32)\n",
    "Y_test = np.asarray(pd.get_dummies(test_data['Credibility'].values), dtype = np.float32)\n",
    "\n",
    "hist = model.fit([tr_head,tr_body],Y_train, nb_epoch =8,validation_data=[[ts_head, ts_body],Y_test],verbose=1)\n",
    "predictions = model.predict([ts_head, ts_body])\n",
    "\n",
    "predictions = np.array(predictions)\n",
    "evaluation(Y_test,predictions,['l','f'])"
   ]
  },
  {
   "cell_type": "code",
   "execution_count": 371,
   "metadata": {},
   "outputs": [
    {
     "data": {
      "image/png": "[encoded data removed]",
      "text/plain": [
       "<Figure size 576x288 with 1 Axes>"
      ]
     },
     "metadata": {
      "needs_background": "light"
     },
     "output_type": "display_data"
    },
    {
     "data": {
      "image/png": "[encoded data removed]",
      "text/plain": [
       "<Figure size 576x288 with 1 Axes>"
      ]
     },
     "metadata": {
      "needs_background": "light"
     },
     "output_type": "display_data"
    }
   ],
   "source": [
    "plot_results(hist)"
   ]
  },
  {
   "cell_type": "code",
   "execution_count": 628,
   "metadata": {},
   "outputs": [],
   "source": [
    "all_data=train_data.append(test_data)\n",
    "data=all_data['Body'].append(all_data['Heading'])"
   ]
  },
  {
   "cell_type": "code",
   "execution_count": 678,
   "metadata": {},
   "outputs": [],
   "source": [
    "from keras.preprocessing import text, sequence\n",
    "token = text.Tokenizer()\n",
    "token.fit_on_texts(data)\n",
    "word_index = token.word_index\n",
    "index_word=token.index_word"
   ]
  },
  {
   "cell_type": "code",
   "execution_count": 682,
   "metadata": {},
   "outputs": [],
   "source": [
    "START = '$_START_$'\n",
    "END = '$_END_$'\n",
    "unk_token = '$_UNK_$'\n",
    "i=len(index_word)\n",
    "index_word[i+1]=START\n",
    "index_word[i+2]=END\n",
    "index_word[i+3]=unk_token\n",
    "        \n",
    "word_index[START]=i+1\n",
    "word_index[END]=i+2\n",
    "word_index[unk_token]=i+3"
   ]
  },
  {
   "cell_type": "code",
   "execution_count": 725,
   "metadata": {},
   "outputs": [],
   "source": [
    "import random\n",
    "import warnings\n",
    "import itertools\n",
    "import keras.backend as K\n",
    "import scipy.stats as measures\n",
    "from gensim.models import word2vec\n",
    "from scipy.stats.stats import pearsonr\n",
    "from keras.engine.topology import Layer\n",
    "from nltk.tokenize import regexp_tokenize\n",
    "from sklearn.metrics.pairwise import cosine_similarity\n",
    "from keras.preprocessing import text, sequence\n",
    "warnings.simplefilter(\"ignore\")\n",
    "\n",
    "START = '$_START_$'\n",
    "END = '$_END_$'\n",
    "unk_token = '$_UNK_$'\n",
    "\n",
    "#wordVec_model = word2vec.Word2Vec.load_word2vec_format(\"GoogleNews-vectors-negative300.bin.gz\",binary=True)\n",
    "class sample:\n",
    "    def __init__(self,vocab_size):\n",
    "        print(\"Inside utility\")\n",
    "    def process_data(self,word_to_index,index_to_word,sent_Q,sent_A,wordVec_model=None,dimx=100,dimy=100,vocab_size=5200,embedding_dim=300):\n",
    "    #train data\n",
    "        self.word_to_index=word_to_index\n",
    "        self.index_to_word=index_to_word\n",
    "        sent_train= []\n",
    "        sent_train.extend(sent_Q)\n",
    "        sent_train.extend(sent_A)\n",
    "        sentence = [\"%s %s %s\" % (START,x,END) for x in sent_train]\n",
    "        self.tokenize_sent = [regexp_tokenize(x, \n",
    "                                         pattern = '\\w+|$[\\d\\.]+|\\S+') for x in sentence]\n",
    "        \n",
    "       \n",
    "        \n",
    "        freq = nltk.FreqDist(itertools.chain(*self.tokenize_sent))\n",
    "        print('found ',len(freq),' unique words')\n",
    "        \n",
    "        for i,sent in enumerate(self.tokenize_sent):\n",
    "            self.tokenize_sent[i] = [w if w in self.word_to_index else unk_token for w in sent]\n",
    "        \n",
    "        self.len_train = len(sent_Q)\n",
    "        \n",
    "        self.sentences_x = []\n",
    "        self.sentences_y = []\n",
    "        \n",
    "        #print 'here' \n",
    "        \n",
    "        for sent in self.tokenize_sent[0:self.len_train]:\n",
    "            temp = [START for i in range(dimx)]\n",
    "            for ind,word in enumerate(sent[0:dimx]):\n",
    "                temp[ind] = word\n",
    "            self.sentences_x.append(temp)\n",
    "        # before this loop remove stop words     \n",
    "        for sent in self.tokenize_sent[self.len_train:]:\n",
    "            temp = [START for i in range(dimy)]\n",
    "            for ind,word in enumerate(sent[0:dimy]):\n",
    "                temp[ind] = word       \n",
    "            self.sentences_y.append(temp)\n",
    " \n",
    "        X_data = []\n",
    "        for i in self.sentences_x:\n",
    "            temp = []\n",
    "            for j in i:\n",
    "                temp.append(self.word_to_index[j])\n",
    "            temp = np.array(temp).T\n",
    "            X_data.append(temp)\n",
    "        \n",
    "        y_data=[]\n",
    "        for i in self.sentences_y:\n",
    "            temp = []\n",
    "            for j in i:\n",
    "                temp.append(self.word_to_index[j])\n",
    "            temp = np.array(temp).T\n",
    "            y_data.append(temp)\n",
    "        \n",
    "        X_data = np.array(X_data)\n",
    "        y_data = np.array(y_data)\n",
    "        \n",
    "        #model = gen.models.Word2Vec.load('Word2Vec_QA')  \n",
    "       # pdb.set_trace()\n",
    "        embedding_matrix = np.zeros((len(self.index_to_word)+1,embedding_dim))  \n",
    "        \n",
    "        unk = []\n",
    "        for i in self.index_to_word:\n",
    "            try:\n",
    "                embedding_matrix[i] = wordVec_model[self.index_to_word[i]]\n",
    "            except:\n",
    "                #embedding_matrix[i] = np.zeros_like()\n",
    "                \n",
    "                unk.append(self.index_to_word[i])\n",
    "                continue\n",
    "        print('number of unkown words: ',len(unk))\n",
    "        print('some unknown words ',unk[0:5])\n",
    "        return X_data,y_data,embedding_matrix,unk"
   ]
  },
  {
   "cell_type": "code",
   "execution_count": null,
   "metadata": {},
   "outputs": [],
   "source": [
    "\n",
    "def trainCNN(obj, dataset_headLines, dataset_body,num_outs,embedding_matrix):\n",
    "    embedding_dim = 300\n",
    "    dense_neuron = 32\n",
    "    \n",
    "    filter_length = 5\n",
    "    batch_size = 64\n",
    "   \n",
    "       \n",
    "    inpx = Input(shape=(dimx,),dtype='int32',name='inpx')\n",
    "    #x = Embedding(output_dim=embedding_dim, input_dim=vocab_size, input_length=dimx)(inpx)\n",
    "    x = word2vec_embedding_layer(embedding_matrix)(inpx)  \n",
    "    inpy = Input(shape=(dimy,),dtype='int32',name='inpy')\n",
    "    #y = Embedding(output_dim=embedding_dim, input_dim=vocab_size, input_length=dimy)(inpy)\n",
    "    y = word2vec_embedding_layer(embedding_matrix)(inpy)\n",
    "    \n",
    "    ques = Convolution1D(filters=16, kernel_size=filter_length,\n",
    "                         padding='same', activation='relu'\n",
    "                         )(x)\n",
    "    \n",
    "                            \n",
    "    ans = Convolution1D(filters=16, kernel_size=filter_length,\n",
    "                        padding='same', activation='relu')(y)\n",
    "            \n",
    "    hx = GlobalMaxPooling1D()(ques)\n",
    "    hy = GlobalMaxPooling1D()(ans)\n",
    "\n",
    "    h1 = Multiply()([hx,hy])\n",
    "    h2 = Abs()([hx,hy])\n",
    "\n",
    "    h =  merge.Concatenate()([h1,h2,hy])\n",
    " \n",
    "    wrap = Dense(dense_neuron, activation='relu',name='wrap')(h)\n",
    "    #Dropout_layer = layers.Dropout(0.1)(wrap)\n",
    "    \n",
    "    score = Dense(num_outs,activation='softmax',name='score')(wrap)\n",
    "\n",
    "    model = Model( [inpx,inpy],score)\n",
    "    model.compile( loss='categorical_crossentropy',optimizer=\"adam\",metrics=[f1])    \n",
    "    return model,train_head,train_body,unk\n",
    "\n",
    "\n"
   ]
  },
  {
   "cell_type": "code",
   "execution_count": null,
   "metadata": {},
   "outputs": [],
   "source": [
    "obj=sample(6000)\n",
    "print(\"Training CNN\")\n",
    "dimx = 80\n",
    "dimy = 150\n",
    "train_head,train_body,embedding_matrix,unk = obj.process_data(word_index,index_word,sent_Q=train_rdh,\n",
    "                                                     sent_A=train_rdb,dimx=dimx,dimy=dimy,\n",
    "                                                     wordVec_model = embeddings_index) \n"
   ]
  },
  {
   "cell_type": "code",
   "execution_count": 762,
   "metadata": {},
   "outputs": [],
   "source": [
    "model,tr_head,tr_body,unk = trainCNN(obj,train_rdh,train_rdb,2,embedding_matrix)"
   ]
  },
  {
   "cell_type": "code",
   "execution_count": 763,
   "metadata": {},
   "outputs": [
    {
     "name": "stdout",
     "output_type": "stream",
     "text": [
      "Train on 356 samples, validate on 48 samples\n",
      "Epoch 1/40\n",
      "356/356 [==============================] - ETA: 1:29 - loss: 0.7097 - categorical_accuracy: 0.50 - ETA: 10s - loss: 0.7124 - categorical_accuracy: 0.5000 - ETA: 2s - loss: 0.7109 - categorical_accuracy: 0.496 - 10s 29ms/step - loss: 0.7125 - categorical_accuracy: 0.4719 - val_loss: 0.6868 - val_categorical_accuracy: 0.5417\n",
      "Epoch 2/40\n",
      "356/356 [==============================] - ETA: 0s - loss: 0.6111 - categorical_accuracy: 0.84 - ETA: 0s - loss: 0.5938 - categorical_accuracy: 0.81 - ETA: 0s - loss: 0.5947 - categorical_accuracy: 0.78 - 0s 513us/step - loss: 0.5961 - categorical_accuracy: 0.7753 - val_loss: 0.8098 - val_categorical_accuracy: 0.5000\n",
      "Epoch 3/40\n",
      "356/356 [==============================] - ETA: 0s - loss: 0.6243 - categorical_accuracy: 0.50 - ETA: 0s - loss: 0.4903 - categorical_accuracy: 0.85 - ETA: 0s - loss: 0.4849 - categorical_accuracy: 0.83 - 0s 558us/step - loss: 0.4816 - categorical_accuracy: 0.8315 - val_loss: 0.7072 - val_categorical_accuracy: 0.5833\n",
      "Epoch 4/40\n",
      "356/356 [==============================] - ETA: 0s - loss: 0.3690 - categorical_accuracy: 0.93 - ETA: 0s - loss: 0.3111 - categorical_accuracy: 0.96 - ETA: 0s - loss: 0.3053 - categorical_accuracy: 0.95 - 0s 521us/step - loss: 0.3010 - categorical_accuracy: 0.9466 - val_loss: 0.9700 - val_categorical_accuracy: 0.5000\n",
      "Epoch 5/40\n",
      "356/356 [==============================] - ETA: 0s - loss: 0.2993 - categorical_accuracy: 0.96 - ETA: 0s - loss: 0.1812 - categorical_accuracy: 0.96 - ETA: 0s - loss: 0.1930 - categorical_accuracy: 0.96 - 0s 535us/step - loss: 0.1962 - categorical_accuracy: 0.9522 - val_loss: 0.6900 - val_categorical_accuracy: 0.6042\n",
      "Epoch 6/40\n",
      "356/356 [==============================] - ETA: 0s - loss: 0.0697 - categorical_accuracy: 1.00 - ETA: 0s - loss: 0.0845 - categorical_accuracy: 0.99 - ETA: 0s - loss: 0.0963 - categorical_accuracy: 0.97 - 0s 544us/step - loss: 0.0939 - categorical_accuracy: 0.9803 - val_loss: 0.7054 - val_categorical_accuracy: 0.4792\n",
      "Epoch 7/40\n",
      "356/356 [==============================] - ETA: 0s - loss: 0.0516 - categorical_accuracy: 1.00 - ETA: 0s - loss: 0.0584 - categorical_accuracy: 0.99 - ETA: 0s - loss: 0.0623 - categorical_accuracy: 0.98 - 0s 552us/step - loss: 0.0771 - categorical_accuracy: 0.9831 - val_loss: 1.2021 - val_categorical_accuracy: 0.5208\n",
      "Epoch 8/40\n",
      "356/356 [==============================] - ETA: 0s - loss: 0.1012 - categorical_accuracy: 1.00 - ETA: 0s - loss: 0.0744 - categorical_accuracy: 0.98 - ETA: 0s - loss: 0.0619 - categorical_accuracy: 0.98 - 0s 527us/step - loss: 0.0604 - categorical_accuracy: 0.9860 - val_loss: 0.7166 - val_categorical_accuracy: 0.6042\n",
      "Epoch 9/40\n",
      "356/356 [==============================] - ETA: 0s - loss: 0.0224 - categorical_accuracy: 1.00 - ETA: 0s - loss: 0.0240 - categorical_accuracy: 1.00 - ETA: 0s - loss: 0.0305 - categorical_accuracy: 0.99 - 0s 501us/step - loss: 0.0278 - categorical_accuracy: 0.9944 - val_loss: 0.7399 - val_categorical_accuracy: 0.5833\n",
      "Epoch 10/40\n",
      "356/356 [==============================] - ETA: 0s - loss: 0.0133 - categorical_accuracy: 1.00 - ETA: 0s - loss: 0.0211 - categorical_accuracy: 0.99 - ETA: 0s - loss: 0.0214 - categorical_accuracy: 0.99 - 0s 524us/step - loss: 0.0197 - categorical_accuracy: 0.9944 - val_loss: 0.7656 - val_categorical_accuracy: 0.6250\n",
      "Epoch 11/40\n",
      "356/356 [==============================] - ETA: 0s - loss: 0.0098 - categorical_accuracy: 1.00 - ETA: 0s - loss: 0.0194 - categorical_accuracy: 0.99 - ETA: 0s - loss: 0.0188 - categorical_accuracy: 0.99 - 0s 515us/step - loss: 0.0170 - categorical_accuracy: 0.9944 - val_loss: 0.7442 - val_categorical_accuracy: 0.6042\n",
      "Epoch 12/40\n",
      "356/356 [==============================] - ETA: 0s - loss: 0.0094 - categorical_accuracy: 1.00 - ETA: 0s - loss: 0.0091 - categorical_accuracy: 1.00 - ETA: 0s - loss: 0.0091 - categorical_accuracy: 1.00 - 0s 529us/step - loss: 0.0121 - categorical_accuracy: 0.9972 - val_loss: 0.7339 - val_categorical_accuracy: 0.5833\n",
      "Epoch 13/40\n",
      "356/356 [==============================] - ETA: 0s - loss: 0.0077 - categorical_accuracy: 1.00 - ETA: 0s - loss: 0.0083 - categorical_accuracy: 1.00 - ETA: 0s - loss: 0.0077 - categorical_accuracy: 1.00 - 0s 529us/step - loss: 0.0102 - categorical_accuracy: 0.9972 - val_loss: 0.7597 - val_categorical_accuracy: 0.6042\n",
      "Epoch 14/40\n",
      "356/356 [==============================] - ETA: 0s - loss: 0.0442 - categorical_accuracy: 0.96 - ETA: 0s - loss: 0.0135 - categorical_accuracy: 0.99 - ETA: 0s - loss: 0.0125 - categorical_accuracy: 0.99 - 0s 527us/step - loss: 0.0111 - categorical_accuracy: 0.9972 - val_loss: 0.7453 - val_categorical_accuracy: 0.5833\n",
      "Epoch 15/40\n",
      "356/356 [==============================] - ETA: 0s - loss: 0.0068 - categorical_accuracy: 1.00 - ETA: 0s - loss: 0.0060 - categorical_accuracy: 1.00 - ETA: 0s - loss: 0.0080 - categorical_accuracy: 0.99 - 0s 504us/step - loss: 0.0075 - categorical_accuracy: 0.9972 - val_loss: 0.7462 - val_categorical_accuracy: 0.5833\n",
      "Epoch 16/40\n",
      "356/356 [==============================] - ETA: 0s - loss: 0.0037 - categorical_accuracy: 1.00 - ETA: 0s - loss: 0.0041 - categorical_accuracy: 1.00 - ETA: 0s - loss: 0.0079 - categorical_accuracy: 0.99 - 0s 538us/step - loss: 0.0071 - categorical_accuracy: 0.9972 - val_loss: 0.8240 - val_categorical_accuracy: 0.6250\n",
      "Epoch 17/40\n",
      "356/356 [==============================] - ETA: 0s - loss: 0.0032 - categorical_accuracy: 1.00 - ETA: 0s - loss: 0.0038 - categorical_accuracy: 1.00 - ETA: 0s - loss: 0.0071 - categorical_accuracy: 0.99 - 0s 538us/step - loss: 0.0088 - categorical_accuracy: 0.9944 - val_loss: 0.8045 - val_categorical_accuracy: 0.6250\n",
      "Epoch 18/40\n",
      "356/356 [==============================] - ETA: 0s - loss: 0.0025 - categorical_accuracy: 1.00 - ETA: 0s - loss: 0.0030 - categorical_accuracy: 1.00 - ETA: 0s - loss: 0.0073 - categorical_accuracy: 0.99 - 0s 527us/step - loss: 0.0065 - categorical_accuracy: 0.9972 - val_loss: 0.7717 - val_categorical_accuracy: 0.6042\n",
      "Epoch 19/40\n",
      "356/356 [==============================] - ETA: 0s - loss: 0.0027 - categorical_accuracy: 1.00 - ETA: 0s - loss: 0.0026 - categorical_accuracy: 1.00 - ETA: 0s - loss: 0.0049 - categorical_accuracy: 0.99 - 0s 499us/step - loss: 0.0058 - categorical_accuracy: 0.9972 - val_loss: 0.7613 - val_categorical_accuracy: 0.5625\n",
      "Epoch 20/40\n",
      "356/356 [==============================] - ETA: 0s - loss: 0.0024 - categorical_accuracy: 1.00 - ETA: 0s - loss: 0.0024 - categorical_accuracy: 1.00 - ETA: 0s - loss: 0.0043 - categorical_accuracy: 1.00 - 0s 538us/step - loss: 0.0038 - categorical_accuracy: 1.0000 - val_loss: 0.8838 - val_categorical_accuracy: 0.6458\n",
      "Epoch 21/40\n",
      "356/356 [==============================] - ETA: 0s - loss: 0.0015 - categorical_accuracy: 1.00 - ETA: 0s - loss: 0.0057 - categorical_accuracy: 1.00 - ETA: 0s - loss: 0.0038 - categorical_accuracy: 1.00 - 0s 544us/step - loss: 0.0048 - categorical_accuracy: 1.0000 - val_loss: 0.8313 - val_categorical_accuracy: 0.6250\n",
      "Epoch 22/40\n",
      "356/356 [==============================] - ETA: 0s - loss: 0.0012 - categorical_accuracy: 1.00 - ETA: 0s - loss: 0.0015 - categorical_accuracy: 1.00 - ETA: 0s - loss: 0.0021 - categorical_accuracy: 1.00 - 0s 541us/step - loss: 0.0020 - categorical_accuracy: 1.0000 - val_loss: 0.8116 - val_categorical_accuracy: 0.6042\n",
      "Epoch 23/40\n",
      "356/356 [==============================] - ETA: 0s - loss: 0.0016 - categorical_accuracy: 1.00 - ETA: 0s - loss: 0.0014 - categorical_accuracy: 1.00 - ETA: 0s - loss: 0.0013 - categorical_accuracy: 1.00 - 0s 524us/step - loss: 0.0013 - categorical_accuracy: 1.0000 - val_loss: 0.8665 - val_categorical_accuracy: 0.6042\n",
      "Epoch 24/40\n",
      "356/356 [==============================] - ETA: 0s - loss: 0.0012 - categorical_accuracy: 1.00 - ETA: 0s - loss: 0.0011 - categorical_accuracy: 1.00 - ETA: 0s - loss: 0.0011 - categorical_accuracy: 1.00 - 0s 510us/step - loss: 0.0011 - categorical_accuracy: 1.0000 - val_loss: 0.8121 - val_categorical_accuracy: 0.6042\n",
      "Epoch 25/40\n"
     ]
    },
    {
     "name": "stdout",
     "output_type": "stream",
     "text": [
      "356/356 [==============================] - ETA: 0s - loss: 0.0018 - categorical_accuracy: 1.00 - ETA: 0s - loss: 0.0010 - categorical_accuracy: 1.00 - ETA: 0s - loss: 9.0632e-04 - categorical_accuracy: 1.00 - 0s 527us/step - loss: 9.0821e-04 - categorical_accuracy: 1.0000 - val_loss: 0.8048 - val_categorical_accuracy: 0.6042\n",
      "Epoch 26/40\n",
      "356/356 [==============================] - ETA: 0s - loss: 6.8851e-04 - categorical_accuracy: 1.00 - ETA: 0s - loss: 7.3756e-04 - categorical_accuracy: 1.00 - ETA: 0s - loss: 8.2153e-04 - categorical_accuracy: 1.00 - 0s 524us/step - loss: 7.8215e-04 - categorical_accuracy: 1.0000 - val_loss: 0.8778 - val_categorical_accuracy: 0.6250\n",
      "Epoch 27/40\n",
      "356/356 [==============================] - ETA: 0s - loss: 6.9300e-04 - categorical_accuracy: 1.00 - ETA: 0s - loss: 6.8010e-04 - categorical_accuracy: 1.00 - ETA: 0s - loss: 6.9363e-04 - categorical_accuracy: 1.00 - 0s 524us/step - loss: 6.5989e-04 - categorical_accuracy: 1.0000 - val_loss: 0.8951 - val_categorical_accuracy: 0.6042\n",
      "Epoch 28/40\n",
      "356/356 [==============================] - ETA: 0s - loss: 4.6739e-04 - categorical_accuracy: 1.00 - ETA: 0s - loss: 5.4962e-04 - categorical_accuracy: 1.00 - ETA: 0s - loss: 5.6912e-04 - categorical_accuracy: 1.00 - 0s 518us/step - loss: 5.6293e-04 - categorical_accuracy: 1.0000 - val_loss: 0.9102 - val_categorical_accuracy: 0.6042\n",
      "Epoch 29/40\n",
      "356/356 [==============================] - ETA: 0s - loss: 4.8139e-04 - categorical_accuracy: 1.00 - ETA: 0s - loss: 5.5947e-04 - categorical_accuracy: 1.00 - ETA: 0s - loss: 5.0627e-04 - categorical_accuracy: 1.00 - 0s 499us/step - loss: 4.8220e-04 - categorical_accuracy: 1.0000 - val_loss: 0.8514 - val_categorical_accuracy: 0.6042\n",
      "Epoch 30/40\n",
      "356/356 [==============================] - ETA: 0s - loss: 3.6683e-04 - categorical_accuracy: 1.00 - ETA: 0s - loss: 3.7067e-04 - categorical_accuracy: 1.00 - ETA: 0s - loss: 3.9020e-04 - categorical_accuracy: 1.00 - 0s 490us/step - loss: 4.1171e-04 - categorical_accuracy: 1.0000 - val_loss: 0.8921 - val_categorical_accuracy: 0.6042\n",
      "Epoch 31/40\n",
      "356/356 [==============================] - ETA: 0s - loss: 3.4529e-04 - categorical_accuracy: 1.00 - ETA: 0s - loss: 3.0971e-04 - categorical_accuracy: 1.00 - ETA: 0s - loss: 3.4695e-04 - categorical_accuracy: 1.00 - 0s 535us/step - loss: 3.5240e-04 - categorical_accuracy: 1.0000 - val_loss: 0.9076 - val_categorical_accuracy: 0.6042\n",
      "Epoch 32/40\n",
      "356/356 [==============================] - ETA: 0s - loss: 2.1226e-04 - categorical_accuracy: 1.00 - ETA: 0s - loss: 2.6587e-04 - categorical_accuracy: 1.00 - ETA: 0s - loss: 2.8688e-04 - categorical_accuracy: 1.00 - 0s 529us/step - loss: 3.0892e-04 - categorical_accuracy: 1.0000 - val_loss: 0.8513 - val_categorical_accuracy: 0.6042\n",
      "Epoch 33/40\n",
      "356/356 [==============================] - ETA: 0s - loss: 1.9142e-04 - categorical_accuracy: 1.00 - ETA: 0s - loss: 2.8924e-04 - categorical_accuracy: 1.00 - ETA: 0s - loss: 2.8066e-04 - categorical_accuracy: 1.00 - 0s 527us/step - loss: 2.7191e-04 - categorical_accuracy: 1.0000 - val_loss: 0.9022 - val_categorical_accuracy: 0.6042\n",
      "Epoch 34/40\n",
      "356/356 [==============================] - ETA: 0s - loss: 4.5753e-04 - categorical_accuracy: 1.00 - ETA: 0s - loss: 2.7786e-04 - categorical_accuracy: 1.00 - ETA: 0s - loss: 2.5806e-04 - categorical_accuracy: 1.00 - 0s 499us/step - loss: 2.4162e-04 - categorical_accuracy: 1.0000 - val_loss: 0.8911 - val_categorical_accuracy: 0.5833\n",
      "Epoch 35/40\n",
      "356/356 [==============================] - ETA: 0s - loss: 2.1232e-04 - categorical_accuracy: 1.00 - ETA: 0s - loss: 2.3709e-04 - categorical_accuracy: 1.00 - ETA: 0s - loss: 2.2350e-04 - categorical_accuracy: 1.00 - 0s 510us/step - loss: 2.1463e-04 - categorical_accuracy: 1.0000 - val_loss: 0.8885 - val_categorical_accuracy: 0.6042\n",
      "Epoch 36/40\n",
      "356/356 [==============================] - ETA: 0s - loss: 1.5168e-04 - categorical_accuracy: 1.00 - ETA: 0s - loss: 1.5282e-04 - categorical_accuracy: 1.00 - ETA: 0s - loss: 1.7240e-04 - categorical_accuracy: 1.00 - 0s 515us/step - loss: 1.9402e-04 - categorical_accuracy: 1.0000 - val_loss: 0.9153 - val_categorical_accuracy: 0.6042\n",
      "Epoch 37/40\n",
      "356/356 [==============================] - ETA: 0s - loss: 3.6840e-04 - categorical_accuracy: 1.00 - ETA: 0s - loss: 1.8842e-04 - categorical_accuracy: 1.00 - ETA: 0s - loss: 1.8441e-04 - categorical_accuracy: 1.00 - 0s 510us/step - loss: 1.7641e-04 - categorical_accuracy: 1.0000 - val_loss: 0.9215 - val_categorical_accuracy: 0.6042\n",
      "Epoch 38/40\n",
      "356/356 [==============================] - ETA: 0s - loss: 1.1684e-04 - categorical_accuracy: 1.00 - ETA: 0s - loss: 1.3381e-04 - categorical_accuracy: 1.00 - ETA: 0s - loss: 1.6268e-04 - categorical_accuracy: 1.00 - 0s 510us/step - loss: 1.6173e-04 - categorical_accuracy: 1.0000 - val_loss: 0.9167 - val_categorical_accuracy: 0.6042\n",
      "Epoch 39/40\n",
      "356/356 [==============================] - ETA: 0s - loss: 1.1358e-04 - categorical_accuracy: 1.00 - ETA: 0s - loss: 1.2940e-04 - categorical_accuracy: 1.00 - ETA: 0s - loss: 1.4380e-04 - categorical_accuracy: 1.00 - 0s 513us/step - loss: 1.4750e-04 - categorical_accuracy: 1.0000 - val_loss: 0.9321 - val_categorical_accuracy: 0.6042\n",
      "Epoch 40/40\n",
      "356/356 [==============================] - ETA: 0s - loss: 1.3725e-04 - categorical_accuracy: 1.00 - ETA: 0s - loss: 1.2273e-04 - categorical_accuracy: 1.00 - ETA: 0s - loss: 1.3447e-04 - categorical_accuracy: 1.00 - 0s 487us/step - loss: 1.3719e-04 - categorical_accuracy: 1.0000 - val_loss: 0.9458 - val_categorical_accuracy: 0.6042\n",
      "\n",
      "              precision    recall  f1-score   support\n",
      "\n",
      "           l       0.69      0.38      0.49        24\n",
      "           f       0.57      0.83      0.68        24\n",
      "\n",
      "    accuracy                           0.60        48\n",
      "   macro avg       0.63      0.60      0.58        48\n",
      "weighted avg       0.63      0.60      0.58        48\n",
      "\n"
     ]
    }
   ],
   "source": [
    "Y_train = np.asarray(pd.get_dummies(train_data_shuffled['Credibility'].values), dtype = np.float32)\n",
    "Y_test = np.asarray(pd.get_dummies(test_data['Credibility'].values), dtype = np.float32)\n",
    "ts_head, ts_body = generateMatrix(obj,test_rdh, test_rdb)\n",
    "hist = model.fit([tr_head,tr_body],Y_train, nb_epoch =10,validation_data=([ts_head, ts_body], Y_test),verbose=1)\n",
    "predictions = model.predict([ts_head, ts_body])\n",
    "\n",
    "predictions = np.array(predictions)\n",
    "evaluation(Y_test,predictions,['l','f'])"
   ]
  },
  {
   "cell_type": "markdown",
   "metadata": {},
   "source": [
    "### Feature Based Approach"
   ]
  },
  {
   "cell_type": "code",
   "execution_count": 675,
   "metadata": {},
   "outputs": [],
   "source": []
  },
  {
   "cell_type": "code",
   "execution_count": 677,
   "metadata": {},
   "outputs": [
    {
     "data": {
      "text/plain": [
       "'$_START_$'"
      ]
     },
     "execution_count": 677,
     "metadata": {},
     "output_type": "execute_result"
    }
   ],
   "source": []
  },
  {
   "cell_type": "code",
   "execution_count": null,
   "metadata": {},
   "outputs": [],
   "source": []
  }
 ],
 "metadata": {
  "kernelspec": {
   "display_name": "Python 3",
   "language": "python",
   "name": "python3"
  },
  "language_info": {
   "codemirror_mode": {
    "name": "ipython",
    "version": 3
   },
   "file_extension": ".py",
   "mimetype": "text/x-python",
   "name": "python",
   "nbconvert_exporter": "python",
   "pygments_lexer": "ipython3",
   "version": "3.7.4"
  }
 },
 "nbformat": 4,
 "nbformat_minor": 2
}
