{
 "cells": [
  {
   "cell_type": "code",
   "execution_count": 211,
   "metadata": {},
   "outputs": [
    {
     "name": "stderr",
     "output_type": "stream",
     "text": [
      "[nltk_data] Downloading package punkt to\n",
      "[nltk_data]     C:\\Users\\anh21\\AppData\\Roaming\\nltk_data...\n",
      "[nltk_data]   Package punkt is already up-to-date!\n",
      "[nltk_data] Downloading package wordnet to\n",
      "[nltk_data]     C:\\Users\\anh21\\AppData\\Roaming\\nltk_data...\n",
      "[nltk_data]   Package wordnet is already up-to-date!\n",
      "[nltk_data] Downloading package stopwords to\n",
      "[nltk_data]     C:\\Users\\anh21\\AppData\\Roaming\\nltk_data...\n",
      "[nltk_data]   Package stopwords is already up-to-date!\n"
     ]
    },
    {
     "data": {
      "text/plain": [
       "True"
      ]
     },
     "execution_count": 211,
     "metadata": {},
     "output_type": "execute_result"
    }
   ],
   "source": [
    "import nltk\n",
    "import numpy as np\n",
    "from sklearn import feature_extraction\n",
    "from tqdm import tqdm\n",
    "# -*- coding: utf-8 -*-\n",
    "import os\n",
    "from os import path\n",
    "import xgboost as xgb\n",
    "from os import listdir\n",
    "from sklearn.metrics import classification_report\n",
    "from keras.metrics import categorical_accuracy \n",
    "from keras import layers\n",
    "import matplotlib.pyplot as plt\n",
    "from keras.utils.np_utils import to_categorical\n",
    "from keras.layers.convolutional import Convolution1D\n",
    "import warnings\n",
    "from nltk.tokenize import regexp_tokenize\n",
    "import gensim as gen\n",
    "import nltk\n",
    "import keras.backend as K\n",
    "from keras.preprocessing import sequence\n",
    "from keras.models import Sequential, Model\n",
    "from keras.layers import Dense, Layer,Lambda, Dropout, Activation, Input, merge, Multiply, Embedding,GlobalMaxPooling1D \n",
    "from sklearn.ensemble import GradientBoostingClassifier\n",
    "import tensorflow as tf\n",
    "#from tensorflow.keras import layers\n",
    "import numpy as np\n",
    "import pandas as pd\n",
    "from nltk.tokenize import regexp_tokenize\n",
    "import numpy as np\n",
    "import gensim as gen\n",
    "from sklearn.metrics import confusion_matrix\n",
    "import re\n",
    "import pdb\n",
    "import matplotlib.pyplot as plt\n",
    "import seaborn as sns\n",
    "#from collections import defaultdict\n",
    "import spacy\n",
    "import scipy\n",
    "from nltk.corpus import stopwords\n",
    "from nltk.tokenize import RegexpTokenizer\n",
    "from spacy.lang.en.stop_words import STOP_WORDS\n",
    "from nltk.tokenize import sent_tokenize\n",
    "from sklearn.preprocessing import StandardScaler,MinMaxScaler,RobustScaler,MaxAbsScaler \n",
    "from sklearn import model_selection, preprocessing, linear_model, naive_bayes, metrics, svm\n",
    "nltk.download('punkt')\n",
    "nltk.download('wordnet')\n",
    "nltk.download('stopwords')"
   ]
  },
  {
   "cell_type": "code",
   "execution_count": 2,
   "metadata": {},
   "outputs": [],
   "source": [
    "#importing all stopwords\n",
    "stop_words=stopwords.words('english')\n",
    "stopwords=set(stop_words).union(STOP_WORDS)\n",
    "\n",
    "nlp = spacy.load('en_core_web_sm')\n",
    "tokenizer= RegexpTokenizer('\\w+\\'?\\w+|w+')\n",
    "#%%\n",
    "\n",
    "train_folders=['legit-training\\\\','fake-training\\\\']\n",
    "test_folders=['fake-test\\\\','legit-test\\\\']\n",
    "\n",
    "#%% keep meaningful stop words\n",
    "exceptionStopWords = {\n",
    "    'again',\n",
    "    'against',\n",
    "    'ain',\n",
    "    'almost',\n",
    "    'among',\n",
    "    'amongst',\n",
    "    'amount',\n",
    "    'anyhow',\n",
    "    'anyway',\n",
    "    'aren',\n",
    "    \"aren't\",\n",
    "    'below',\n",
    "    'bottom',\n",
    "    'but',\n",
    "    'cannot',\n",
    "    'couldn',\n",
    "    \"couldn't\",\n",
    "    'didn',\n",
    "    \"didn't\",\n",
    "    'doesn',\n",
    "    \"doesn't\",\n",
    "    'don',\n",
    "    \"don't\",\n",
    "    'done',\n",
    "    'down',\n",
    "    'except',\n",
    "    'few',\n",
    "    'hadn',\n",
    "    \"hadn't\",\n",
    "    'hasn',\n",
    "    \"hasn't\",\n",
    "    'haven',\n",
    "    \"haven't\",\n",
    "    'however',\n",
    "    'isn',\n",
    "    \"isn't\",\n",
    "    'least',\n",
    "    'mightn',\n",
    "    \"mightn't\",\n",
    "    'must',\n",
    "    'mustn',\n",
    "    \"mustn't\",\n",
    "    'needn',\n",
    "    \"needn't\",\n",
    "    'neither',\n",
    "    'never',\n",
    "    'nevertheless',\n",
    "    'no',\n",
    "    'nobody',\n",
    "    'none', 'noone',\n",
    "    'nor',\n",
    "    'not',\n",
    "    'nothing',\n",
    "    'should',\n",
    "    \"should've\",\n",
    "    'shouldn',\n",
    "    \"shouldn't\",\n",
    "    'too',\n",
    "    'top',\n",
    "    'up',\n",
    "    'wasn',\n",
    "    \"wasn't\",\n",
    "    'well',\n",
    "    'weren',\n",
    "    \"weren't\",\n",
    "    'won',\n",
    "    \"won't\",\n",
    "    'wouldn',\n",
    "    \"wouldn't\",\n",
    "}\n",
    "finalstop = stopwords - exceptionStopWords"
   ]
  },
  {
   "cell_type": "markdown",
   "metadata": {},
   "source": [
    "### Loading the data"
   ]
  },
  {
   "cell_type": "code",
   "execution_count": 217,
   "metadata": {},
   "outputs": [
    {
     "name": "stdout",
     "output_type": "stream",
     "text": [
      "Loading training data\n",
      "Loading testing data\n"
     ]
    }
   ],
   "source": [
    "directory=\"C:\\\\Users\\\\anh21\\\\Fake_news\\\\fake news challenge (FNC-1)\\\\Qatar_data\\\\\"\n",
    "train_folders=['legit-training\\\\','fake-training\\\\']\n",
    "test_folders=['fake-test\\\\','legit-test\\\\']\n",
    "\n",
    "def load_dataset(folders,directory,mode='train'):\n",
    "    \n",
    "#     heading=defaultdict(list)\n",
    "#     body=defaultdict(list)\n",
    "#     toke_sentence=defaultdict(list)\n",
    "    files=['training_task1_b_amir.tsv','testing_task1_b_amir.tsv']\n",
    "    if mode=='train':\n",
    "        file=files[0]\n",
    "    else:\n",
    "        file=files[1]\n",
    "    if path.exists(file):\n",
    "        df= pd.read_csv(file, names=['Credibility', 'Heading', 'Body'], header=None, sep=\"\\t\", quoting=3)\n",
    "    else:\n",
    "        heading=[]\n",
    "        body=[]\n",
    "        domain=[]\n",
    "        credibility=[]\n",
    "        ids=0\n",
    "        for folder in folders:\n",
    "            for name in listdir(directory+folder):\n",
    "                names=re.findall(\"[a-zA-Z]+\",name)\n",
    "                myfile = pd.read_csv(directory+folder+name,sep='\\n\\n', header=None,encoding='utf-8')\n",
    "\n",
    "                    #addressing one word title\n",
    "                if len(tokenizer.tokenize(myfile[0][0]))<2:\n",
    "                    artic=myfile[0][1].replace('  ','\\n').split('\\n')\n",
    "                    #heading.append((myfile[0][0]+' '+artic[0]).lower())\n",
    "                    #body.append((' '.join(artic[1:])).lower())\n",
    "                 #addressing no title issue\n",
    "                elif len(myfile)==1:\n",
    "                     #artic=re.split('[\\n!?.\"-]+',myfile[0][0])\n",
    "                    heading.append(np.nan)\n",
    "                    body.append(myfile[0][0].replace('\\r',''))#(' '.join(artic[:])).replace('\\r','').lower()\n",
    "\n",
    "                     # addressing hyperlinks   \n",
    "                elif re.sub(r'^https?:\\/\\/.*[\\r\\n]*', '', myfile[0][0], flags=re.MULTILINE)=='':\n",
    "\n",
    "                    artic=myfile[0][1].split('.')\n",
    "                    heading.append((artic[0]))\n",
    "                    body.append((' '.join(artic[1:])))\n",
    "\n",
    "                else:    \n",
    "                    heading.append(myfile[0][0].replace('\\r',''))\n",
    "                    body.append(myfile[0][1].replace('\\r',''))\n",
    "\n",
    "                domain.append(names[0])\n",
    "                credibility.append(names[1])   \n",
    "                ids+=1\n",
    "        df=pd.DataFrame(list(zip(body, heading,credibility,domain)), \n",
    "                   columns =['Body', 'Heading','Credibility','Domain'])\n",
    "        df.to_csv('%s.tsv'%(file), sep = '\\t')\n",
    "    return df\n",
    "\n",
    "\n",
    "\n",
    "\n",
    "print(\"Loading training data\")\n",
    "train_data_=load_dataset(train_folders,directory)  \n",
    "print(\"Loading testing data\")\n",
    "test_data_=load_dataset(test_folders,directory,'test')  \n",
    "#%%\n",
    "#domain_onehot=np.asarray(pd.get_dummies(domain), dtype = np.float32)"
   ]
  },
  {
   "cell_type": "code",
   "execution_count": 218,
   "metadata": {},
   "outputs": [],
   "source": [
    "# print(\"Loading training data\")\n",
    "# train_data_ = pd.read_csv('training_task1_b_amir.tsv', names=['Credibility', 'Heading', 'Body'], header=None, sep=\"\\t\", quoting=3)\n",
    "# print(\"Loading testing data\")\n",
    "# test_data = pd.read_csv('testing_task1_b_amir.tsv', names=['Credibility', 'Heading', 'Body'], header=None, sep=\"\\t\", quoting=3)\n",
    "\n",
    "Y_train =  pd.Categorical(train_data_['Credibility']).codes\n",
    "Y_test =  pd.Categorical(test_data['Credibility']).codes"
   ]
  },
  {
   "cell_type": "code",
   "execution_count": 4,
   "metadata": {},
   "outputs": [],
   "source": [
    "#helping functions for basic text preprocessing\n",
    "\n",
    "from nltk.stem.wordnet import WordNetLemmatizer\n",
    "\n",
    "lemma = WordNetLemmatizer()\n",
    "\n",
    "def lemmatization(review):\n",
    "    lemma_result = []\n",
    "    \n",
    "    for words in review:\n",
    "        doc = nlp(words)\n",
    "        for token in doc:\n",
    "            lemma_result.append(token.lemma_)\n",
    "\n",
    "    return lemma_result\n",
    "\n",
    "def remove_stopwords(sent):\n",
    "    return [token for token in sent if token not in finalstop]\n",
    "\n",
    "def remove_punctuations(data):\n",
    "    \n",
    "    train = []\n",
    "    for i in range(len(data)):\n",
    "        sentence = \"\"\n",
    "        for char in data[i]:\n",
    "            \n",
    "            if char.isalpha() or char== ' ':\n",
    "                sentence+=char\n",
    "            else:\n",
    "                sentence+=' '\n",
    "        train.append(sentence)\n",
    "    return train\n",
    "\n",
    "\n",
    "def remove_extra_space(text):\n",
    "    \"\"\"\n",
    "    Remove extra white spaces space from text\n",
    "    Example: hey are   you coming. ? => he are you coming. ?\n",
    "    Args:\n",
    "        text (str): text\n",
    "    Returns:\n",
    "        clean_text (str): clean text with removed extra white spaces\n",
    "    \"\"\"\n",
    "    try:\n",
    "      clean_text = ' '.join(text.strip().split())\n",
    "    except:\n",
    "      print(text)\n",
    "    return clean_text\n",
    "\n",
    "def replace_digits_with_char(text, replace_char=''):\n",
    "    \"\"\"\n",
    "    Replace digits to `replace_char`\n",
    "    Example: I will be there on 22 april. => I will be there on dd april.\n",
    "    Args:\n",
    "        text (str): text\n",
    "        replace_char (str): character with which digit has to be replaced\n",
    "    Returns:\n",
    "        clean_text (str): clean text with replaced char for digits\n",
    "    \"\"\"\n",
    "    regex_pattern = re.compile(r'[0-9]')\n",
    "    clean_text = regex_pattern.sub(replace_char, text)\n",
    "    return clean_text\n",
    "\n",
    "def remove_single_char_word(text):\n",
    "    \"\"\"\n",
    "    Remove single character word from text\n",
    "    Example: I am in a home for 2 years => am in home for years \n",
    "    Args:\n",
    "        text (str): text\n",
    "         \n",
    "    Returns:\n",
    "        (str): text with single char removed\n",
    "    \"\"\"\n",
    "    words = text.split()\n",
    "    filter_words = [word for word in words if len(word) > 1]\n",
    "    return \" \".join(filter_words)"
   ]
  },
  {
   "cell_type": "code",
   "execution_count": 6,
   "metadata": {},
   "outputs": [],
   "source": [
    "def data_cleaning(data):\n",
    "    \n",
    "    \"\"\"\n",
    "    Separate the heading and the body of each article and apply basic text cleaning\n",
    "    \n",
    "    Args:\n",
    "        data : dataframe\n",
    "         \n",
    "    Returns:\n",
    "        : dataframe with preprocessed text\n",
    "    \"\"\"\n",
    "    \n",
    "    #train_data_[\"Heading\"]=train_data_[\"Heading\"].str.lower()\n",
    "    \n",
    "    data[\"Heading\"]=data[\"Heading\"].apply(remove_extra_space)\n",
    "    #print(train_data[\"Heading\"].head())\n",
    "\n",
    "    data[\"Heading\"]=data[\"Heading\"].apply(replace_digits_with_char)\n",
    "    #print(train_data[\"Heading\"].head())\n",
    "\n",
    "    data[\"Heading\"]=data[\"Heading\"].apply(remove_single_char_word)\n",
    "    #print(train_data[\"Heading\"].head())\n",
    "\n",
    "    data[\"Heading\"]=data[\"Heading\"].apply(remove_punctuations).apply(lambda x:''.join(word for word in x))\n",
    "    print(data[\"Heading\"].head(2))\n",
    "\n",
    "    \n",
    "    # print(train_data[\"Heading\"].head())\n",
    "    #     train_data_[\"Heading\"]=train_data_[\"Heading\"].apply(lemmatization).apply(lambda x: ' '.join(x))\n",
    "    #     print(train_data[\"Heading\"].head(5))\n",
    "\n",
    "    #train_data_[\"Body\"]=train_data_[\"Body\"].str.lower()\n",
    "    data[\"Body\"]=data[\"Body\"].apply(remove_extra_space)\n",
    "\n",
    "\n",
    "    data[\"Body\"]=data[\"Body\"].apply(replace_digits_with_char)\n",
    "\n",
    "\n",
    "    data[\"Body\"]=data[\"Body\"].apply(remove_single_char_word)\n",
    "\n",
    "\n",
    "    data[\"Body\"]=data[\"Body\"].apply(remove_punctuations).apply(lambda x: ''.join(word for word in x))\n",
    "\n",
    "  \n",
    "\n",
    "    #     print('Lemmatization')\n",
    "    #     train_data_[\"Body\"]=train_data_[\"Body\"].apply(lemmatization).apply(lambda x:' '.join(x))\n",
    "\n",
    "\n",
    "\n",
    "    return data"
   ]
  },
  {
   "cell_type": "code",
   "execution_count": 7,
   "metadata": {},
   "outputs": [
    {
     "name": "stdout",
     "output_type": "stream",
     "text": [
      "0    Brazil qualify for World Cup after Coutinho an...\n",
      "1    Uber Self Driving Car Tests Resume Three Days ...\n",
      "Name: Heading, dtype: object\n",
      "0    Stan Wawrinka proves victorious of Roger Federer\n",
      "1        Trump Calls Democrats Smarter Than His Party\n",
      "Name: Heading, dtype: object\n"
     ]
    }
   ],
   "source": [
    "train_data_=data_cleaning(train_data_)\n",
    "test_data=data_cleaning(test_data)\n",
    "#combine train and test data for final evaluation \n",
    "train_data=pd.concat([train_data_,test_data])"
   ]
  },
  {
   "cell_type": "markdown",
   "metadata": {},
   "source": [
    "### Extract similarity features "
   ]
  },
  {
   "cell_type": "code",
   "execution_count": 8,
   "metadata": {},
   "outputs": [],
   "source": [
    "#helping similarity features between  each body and  the corresponding heading of the article \n",
    "\n",
    "_wnl = nltk.WordNetLemmatizer()\n",
    "\n",
    "\n",
    "def normalize_word(w):\n",
    "    return _wnl.lemmatize(w).lower()\n",
    "\n",
    "\n",
    "def get_tokenized_lemmas(s):\n",
    "    return [normalize_word(t) for t in nltk.word_tokenize(s)]\n",
    "\n",
    "\n",
    "def clean(s):\n",
    "    # Cleans a string: Lowercasing, trimming, removing non-alphanumeric\n",
    "\n",
    "    return \" \".join(re.findall(r'\\w+', s, flags=re.UNICODE)).lower()\n",
    "\n",
    "\n",
    "def remove_stopwords(l):\n",
    "    # Removes stopwords from a list of tokens\n",
    "    return [w for w in l if w not in feature_extraction.text.ENGLISH_STOP_WORDS]\n",
    "\n",
    "\n",
    "def gen_or_load_feats(feat_fn, headlines, bodies):\n",
    "    \n",
    "    feats = feat_fn(headlines, bodies)\n",
    "    #np.save(feature_file, feats)\n",
    "\n",
    "    return feats\n",
    "\n",
    "\n",
    "\n",
    "def word_overlap_features(headlines, bodies):\n",
    "    X = []\n",
    "    for i, (headline, body) in tqdm(enumerate(zip(headlines, bodies))):\n",
    "        clean_headline = clean(headline)\n",
    "        clean_body = clean(body)\n",
    "        clean_headline = get_tokenized_lemmas(clean_headline)\n",
    "        clean_body = get_tokenized_lemmas(clean_body)\n",
    "        features = [\n",
    "            len(set(clean_headline).intersection(clean_body)) / float(len(set(clean_headline).union(clean_body)))]\n",
    "        X.append(features)\n",
    "    return X\n",
    "\n",
    "\n",
    "def refuting_features(headlines, bodies):\n",
    "    _refuting_words = [\n",
    "        'fake',\n",
    "        'fraud',\n",
    "        'hoax',\n",
    "        'false',\n",
    "        'deny', 'denies',\n",
    "        # 'refute',\n",
    "        'not',\n",
    "        'despite',\n",
    "        'nope',\n",
    "        'doubt', 'doubts',\n",
    "        'bogus',\n",
    "        'debunk',\n",
    "        'pranks',\n",
    "        'retract'\n",
    "    ]\n",
    "    X = []\n",
    "    for i, (headline, body) in tqdm(enumerate(zip(headlines, bodies))):\n",
    "        clean_headline = clean(headline)\n",
    "        clean_headline = get_tokenized_lemmas(clean_headline)\n",
    "        features = [1 if word in clean_headline else 0 for word in _refuting_words]\n",
    "        X.append(features)\n",
    "    return X\n",
    "\n",
    "\n",
    "def polarity_features(headlines, bodies):\n",
    "    _refuting_words = [\n",
    "        'fake',\n",
    "        'fraud',\n",
    "        'hoax',\n",
    "        'false',\n",
    "        'deny', 'denies',\n",
    "        'not',\n",
    "        'despite',\n",
    "        'nope',\n",
    "        'doubt', 'doubts',\n",
    "        'bogus',\n",
    "        'debunk',\n",
    "        'pranks',\n",
    "        'retract'\n",
    "    ]\n",
    "\n",
    "    def calculate_polarity(text):\n",
    "        tokens = get_tokenized_lemmas(text)\n",
    "        return sum([t in _refuting_words for t in tokens]) % 2\n",
    "    X = []\n",
    "    for i, (headline, body) in tqdm(enumerate(zip(headlines, bodies))):\n",
    "        clean_headline = clean(headline)\n",
    "        clean_body = clean(body)\n",
    "        features = []\n",
    "        features.append(calculate_polarity(clean_headline))\n",
    "        features.append(calculate_polarity(clean_body))\n",
    "        X.append(features)\n",
    "    return np.array(X)\n",
    "\n",
    "\n",
    "def ngrams(input, n):\n",
    "    input = input.split(' ')\n",
    "    output = []\n",
    "    for i in range(len(input) - n + 1):\n",
    "        output.append(input[i:i + n])\n",
    "    return output\n",
    "\n",
    "\n",
    "def chargrams(input, n):\n",
    "    output = []\n",
    "    for i in range(len(input) - n + 1):\n",
    "        output.append(input[i:i + n])\n",
    "    return output\n",
    "\n",
    "\n",
    "def append_chargrams(features, text_headline, text_body, size):\n",
    "    grams = [' '.join(x) for x in chargrams(\" \".join(remove_stopwords(text_headline.split())), size)]\n",
    "    grams_hits = 0\n",
    "    grams_early_hits = 0\n",
    "    grams_first_hits = 0\n",
    "    for gram in grams:\n",
    "        if gram in text_body:\n",
    "            grams_hits += 1\n",
    "        if gram in text_body[:255]:\n",
    "            grams_early_hits += 1\n",
    "        if gram in text_body[:100]:\n",
    "            grams_first_hits += 1\n",
    "    features.append(grams_hits)\n",
    "    features.append(grams_early_hits)\n",
    "    features.append(grams_first_hits)\n",
    "    return features\n",
    "\n",
    "\n",
    "def append_ngrams(features, text_headline, text_body, size):\n",
    "    grams = [' '.join(x) for x in ngrams(text_headline, size)]\n",
    "    grams_hits = 0\n",
    "    grams_early_hits = 0\n",
    "    for gram in grams:\n",
    "        if gram in text_body:\n",
    "            grams_hits += 1\n",
    "        if gram in text_body[:255]:\n",
    "            grams_early_hits += 1\n",
    "    features.append(grams_hits)\n",
    "    features.append(grams_early_hits)\n",
    "    return features\n",
    "\n",
    "\n",
    "def hand_features(headlines, bodies):\n",
    "    def binary_co_occurence(headline, body):\n",
    "        # Count how many times a token in the title\n",
    "        # appears in the body text.\n",
    "        bin_count = 0\n",
    "        bin_count_early = 0\n",
    "        for headline_token in clean(headline).split(\" \"):\n",
    "            if headline_token in clean(body):\n",
    "                bin_count += 1\n",
    "            if headline_token in clean(body)[:255]:\n",
    "                bin_count_early += 1\n",
    "        return [bin_count, bin_count_early]\n",
    "    \n",
    "    def binary_co_occurence_stops(headline, body):\n",
    "        # Count how many times a token in the title\n",
    "        # appears in the body text. Stopwords in the title\n",
    "        # are ignored.\n",
    "        bin_count = 0\n",
    "        bin_count_early = 0\n",
    "        for headline_token in remove_stopwords(clean(headline).split(\" \")):\n",
    "            if headline_token in clean(body):\n",
    "                bin_count += 1\n",
    "                bin_count_early += 1\n",
    "        return [bin_count, bin_count_early]\n",
    "    \n",
    "    \n",
    "    def count_grams(headline, body):\n",
    "        # Count how many times an n-gram of the title\n",
    "        # appears in the entire body, and intro paragraph\n",
    "\n",
    "        clean_body = clean(body)\n",
    "        clean_headline = clean(headline)\n",
    "        features = []\n",
    "\n",
    "        features = append_chargrams(features, clean_headline, clean_body, 2)\n",
    "        features = append_chargrams(features, clean_headline, clean_body, 8)\n",
    "        features = append_chargrams(features, clean_headline, clean_body, 4)\n",
    "        features = append_chargrams(features, clean_headline, clean_body, 16)\n",
    "\n",
    "        features = append_ngrams(features, clean_headline, clean_body, 2)\n",
    "        features = append_ngrams(features, clean_headline, clean_body, 3)\n",
    "        features = append_ngrams(features, clean_headline, clean_body, 4)\n",
    "        features = append_ngrams(features, clean_headline, clean_body, 5)\n",
    "        features = append_ngrams(features, clean_headline, clean_body, 6)\n",
    "        return features\n",
    "\n",
    "    X = []\n",
    "    for i, (headline, body) in tqdm(enumerate(zip(headlines, bodies))):\n",
    "        X.append(binary_co_occurence(headline, body)\n",
    "                 + binary_co_occurence_stops(headline, body)\n",
    "                 + count_grams(headline, body))\n",
    "\n",
    "\n",
    "    return X\n",
    "\n"
   ]
  },
  {
   "cell_type": "code",
   "execution_count": 64,
   "metadata": {},
   "outputs": [
    {
     "name": "stderr",
     "output_type": "stream",
     "text": [
      "384it [00:01, 265.78it/s]\n"
     ]
    },
    {
     "name": "stdout",
     "output_type": "stream",
     "text": [
      "(384, 1)\n"
     ]
    },
    {
     "name": "stderr",
     "output_type": "stream",
     "text": [
      "384it [00:00, 7399.98it/s]\n"
     ]
    },
    {
     "name": "stdout",
     "output_type": "stream",
     "text": [
      "(384, 15)\n"
     ]
    },
    {
     "name": "stderr",
     "output_type": "stream",
     "text": [
      "384it [00:00, 1023.81it/s]\n"
     ]
    },
    {
     "name": "stdout",
     "output_type": "stream",
     "text": [
      "(384, 2)\n"
     ]
    },
    {
     "name": "stderr",
     "output_type": "stream",
     "text": [
      "384it [00:00, 877.04it/s]\n"
     ]
    },
    {
     "name": "stdout",
     "output_type": "stream",
     "text": [
      "(384, 26)\n"
     ]
    }
   ],
   "source": [
    "import sys\n",
    "import numpy as np\n",
    "\n",
    "from sklearn.ensemble import GradientBoostingClassifier\n",
    "\n",
    "def generate_features(h,b):\n",
    "    X_overlap = gen_or_load_feats(word_overlap_features, h, b)\n",
    "    print(np.array(X_overlap).shape)\n",
    "    X_refuting = gen_or_load_feats(refuting_features, h, b)\n",
    "    print(np.array(X_refuting).shape)\n",
    "    X_polarity = gen_or_load_feats(polarity_features, h, b)\n",
    "    print(np.array(X_polarity).shape)\n",
    "    X_hand = gen_or_load_feats(hand_features, h, b)\n",
    "    print(np.array(X_hand).shape)\n",
    "    X = np.c_[X_hand, X_polarity, X_refuting, X_overlap]\n",
    "    return X\n",
    "\n",
    "print('Generate training features')\n",
    "train_feat=generate_features(train_data_[\"Heading\"].values,train_data_[\"Body\"].values)\n",
    "\n",
    "print('Generate test features')\n",
    "test_feat=generate_features(test_data[\"Heading\"].values,test_data[\"Body\"].values)"
   ]
  },
  {
   "cell_type": "code",
   "execution_count": 10,
   "metadata": {},
   "outputs": [],
   "source": [
    "# load embeddings\n",
    "import gensim\n",
    "from gensim.models import word2vec\n",
    "wordmodelfile=\"C:/Users/anh21/Fake_news/fake news challenge (FNC-1)/fncdata/GoogleNews-vectors-negative300.bin\"\n",
    "wordmodel= gensim.models.KeyedVectors.load_word2vec_format(wordmodelfile, binary=True)"
   ]
  },
  {
   "cell_type": "code",
   "execution_count": 12,
   "metadata": {},
   "outputs": [
    {
     "name": "stdout",
     "output_type": "stream",
     "text": [
      "Checking heading similarities:\n",
      "sim(s1,s2) =  0.90583706\n",
      "sim(s7,s8) =  0.9899585\n",
      "sim(s7,s8) =  0.70947206\n"
     ]
    }
   ],
   "source": [
    "\n",
    "def w2v(s1,s2,wordmodel):\n",
    "    \"\"\"\n",
    "    This function calculates cosine similarity features \n",
    "    between the article headings \n",
    "    and the headings returned by google search API\n",
    "    \n",
    "    Args:\n",
    "        search_heading (str): heading from google search api\n",
    "        heading (str): heading from the article\n",
    "    Returns:\n",
    "        results(float): cosine similarity measure\n",
    "    \n",
    "    \"\"\"\n",
    "    #pdb.set_trace()\n",
    "    if s1==s2:\n",
    "            return 1.0\n",
    "\n",
    "    s1words=s1.split()\n",
    "    s2words=s2.split()\n",
    "\n",
    "    s1wordsset=set(s1words)\n",
    "    s2wordsset=set(s2words)\n",
    "    vocab = wordmodel.vocab #the vocabulary considered in the word embeddings\n",
    "#         if len(s1wordsset & s2wordsset)==0:\n",
    "#                 return 0.0\n",
    "\n",
    "\n",
    "    s1words_=[word for word in s1words if word in vocab] \n",
    "    s2words_=[word for word in s2words if word in vocab] \n",
    "    s1wordsset=set(s1words_)\n",
    "    s2wordsset=set(s2words_)\n",
    "#         for word1 in s1wordsset.copy():\n",
    "#             if (word1 in s2words_):\n",
    "#                 s1words_.remove(word1)\n",
    "#                 s2words_.remove(word1)\n",
    "\n",
    "\n",
    "    if len(s1words_)==0 or len (s2words_)==0:\n",
    "            return 0.0\n",
    "    return wordmodel.n_similarity(s1words_, s2words_)\n",
    "\n",
    "def cosine_sim(search_heading,heading):\n",
    "    \"\"\"\n",
    "    This function calculates cosine similarity results \n",
    "    between the article headings \n",
    "    and the headings returned by google search API\n",
    "    \n",
    "    Args:\n",
    "        search_heading (str): heading from google search api\n",
    "        heading (str): heading from the article\n",
    "    Returns:\n",
    "        results(float): cosine similarity\n",
    "    \n",
    "    \"\"\"\n",
    "    results=[]\n",
    "    for i in range(heading.shape[0]):\n",
    "        r=[1.0 if (heading[i] in test_search_sen or test_search_sen in heading[i] ) else w2v(test_search_sen,heading[i],wordmodel) for test_search_sen in search_heading[i]]\n",
    "        results.append(max(r))\n",
    "    results=np.array(results).reshape(-1,1)\n",
    "    return results\n",
    "\n",
    "print('Checking heading similarities:')\n",
    "s1=\"EU Blocks Deutsche Boerse's $14 Billion Takeover of London Stock Exchange\"\n",
    "s2=\"EU Applauds Deutsche Boerse's $14 Billion Takeover of London Stock Exchange\"\n",
    "s3='American Airlines gets old planes from China Southern to fly domestic'\n",
    "s4='American Airlines ties up partnership with China Southern'\n",
    "s5=\"_Impossible Foods to supersize production of lab-grown burger\"\n",
    "s6=\"lab-grown meatless burger part of a larger global agenda.\"\n",
    "s7=\"Amazon to buy Middle East online retailer Souq\"\n",
    "s8=\"Amazon to sell Middle East online retailer Souq\"\n",
    "print (\"sim(s1,s2) = \", w2v(s1,s2,wordmodel))\n",
    "\n",
    "print (\"sim(s7,s8) = \", w2v(s7,s8,wordmodel))\n",
    "print (\"sim(s7,s8) = \", w2v(s3,s4,wordmodel))"
   ]
  },
  {
   "cell_type": "code",
   "execution_count": 69,
   "metadata": {},
   "outputs": [],
   "source": [
    "#load google search results\n",
    "train_search=np.load('train_google_search_results.npy')\n",
    "test_search=np.load('test_search_results.npy')\n",
    "sim_feat=cosine_sim(train_search,train_data_['Heading'].values)\n",
    "test_sim_feat=cosine_sim(test_search,test_data['Heading'].values)\n"
   ]
  },
  {
   "cell_type": "markdown",
   "metadata": {},
   "source": [
    "### Lexicon features"
   ]
  },
  {
   "cell_type": "code",
   "execution_count": 32,
   "metadata": {},
   "outputs": [],
   "source": [
    "def lex_distribution(text):\n",
    "    \"\"\"\n",
    "    This function calculates lexicon based features\n",
    "    \n",
    "    Args:\n",
    "        text (str): heading or body\n",
    "       \n",
    "    Returns:\n",
    "        results(float): cosine similarity measure\n",
    "    \n",
    "    \"\"\"\n",
    "    lexicon_distribution = list()\n",
    "    for article in text:\n",
    "        lexicon_distribution_per_instance = list()\n",
    "        for lexi in lexicon:\n",
    "            temp = list()\n",
    "            for token in lexi:\n",
    "                if token in article:\n",
    "                    temp.append(token)\n",
    "            if not temp:\n",
    "                lexicon_distribution_per_instance.append(0)\n",
    "            else:\n",
    "                lexicon_distribution_per_instance.append(len(temp))\n",
    "        lexicon_distribution.append(np.asarray(lexicon_distribution_per_instance))\n",
    "    return lexicon_distribution\n",
    "\n",
    "        \n",
    "def lex_Y (lexicon_distribution_train,y_train):\n",
    "    lex_Y_train = []\n",
    "    for i in range(np.shape(y_train)[0]):\n",
    "        X_Y = [lexicon_distribution_train[i]]\n",
    "        lex_Y_train.append(X_Y)\n",
    "    return lex_Y_train"
   ]
  },
  {
   "cell_type": "code",
   "execution_count": 33,
   "metadata": {},
   "outputs": [],
   "source": [
    "#lex_path=\"C:\\\\Users\\\\amir\\\\fake_news\\\\fake news challenge (FNC-1)\\\\lexicon\\\\\"\n",
    "\n",
    "import glob\n",
    "\n",
    "assertive_hooper = list()\n",
    "factive_hooper = list()\n",
    "hedges_hyland = list()\n",
    "implicatives_karttunen = list()\n",
    "report_verbs = list()\n",
    "filenames = glob.glob(\"lexicon\\\\public-lexicons\\\\bias_related_lexicons\\\\features1\\\\*.txt\")\n",
    "\n",
    "for index, file in enumerate(filenames):\n",
    "    \n",
    "    with open(file, 'r') as reader:\n",
    "        for line in reader:\n",
    "            if 'a+' in line or '' == line.strip() or 'ï»¿' in line:\n",
    "                continue\n",
    "            if index == 0:\n",
    "               \n",
    "                assertive_hooper.append(line.strip())\n",
    "            if index == 1:\n",
    "                factive_hooper.append(line.strip())\n",
    "            if index == 2:\n",
    "                hedges_hyland.append(line.strip())\n",
    "            if index == 3:\n",
    "                implicatives_karttunen.append(line.strip())\n",
    "            if index == 4:\n",
    "                report_verbs.append(line.strip())\n",
    "\n",
    "bias_lexicon = list()\n",
    "filenames = glob.glob(\"lexicon\\\\public-lexicons\\\\bias-lexicon\\\\features2\\\\*.txt\")\n",
    "for file in filenames:\n",
    "    with open(file, 'r') as reader:\n",
    "        for line in reader:\n",
    "            if 'a+' in line or '' == line.strip() or 'ï»¿' in line:\n",
    "                    continue\n",
    "            bias_lexicon.append(line.strip())\n",
    "        \n",
    "negative_words = list()\n",
    "positive_words = list()\n",
    "subjclues = list()\n",
    "\n",
    "filenames = glob.glob(\"lexicon\\\\public-lexicons\\\\emo-lexicon\\\\*.txt\")\n",
    "for index, file in enumerate(filenames):\n",
    "    with open(file, 'r', encoding='Latin-1') as reader:\n",
    "        for line in reader:\n",
    "            if 'a+' in line or '' == line.strip() or 'ï»¿' in line:\n",
    "                continue\n",
    "            if index == 0:\n",
    "                negative_words.append(line.strip())\n",
    "            if index == 1:\n",
    "                positive_words.append(line.strip())\n",
    "            if index == 2:\n",
    "                subjclues.append(line.strip())"
   ]
  },
  {
   "cell_type": "code",
   "execution_count": 34,
   "metadata": {},
   "outputs": [],
   "source": [
    "lexicon = []\n",
    "lexicon.append(assertive_hooper)\n",
    "lexicon.append(factive_hooper)\n",
    "lexicon.append(hedges_hyland)\n",
    "lexicon.append(implicatives_karttunen)\n",
    "lexicon.append(report_verbs)\n",
    "lexicon.append(bias_lexicon)\n",
    "lexicon.append(negative_words)\n",
    "lexicon.append(positive_words)\n",
    "lexicon.append(subjclues)\n"
   ]
  },
  {
   "cell_type": "code",
   "execution_count": 122,
   "metadata": {},
   "outputs": [],
   "source": [
    "lexicon_distribution_train = np.array(lex_distribution(train_data_[\"Body\"].values))\n",
    "lexicon_distribution_test = np.array(lex_distribution(test_data[\"Body\"].values))\n",
    "\n",
    "lexicon_distribution_title_train = np.array(lex_distribution(train_data_[\"Heading\"].values))\n",
    "lexicon_distribution_title_test = np.array(lex_distribution(test_data[\"Heading\"].values))"
   ]
  },
  {
   "cell_type": "code",
   "execution_count": 196,
   "metadata": {},
   "outputs": [
    {
     "data": {
      "image/png": "[encoded data removed]",
      "text/plain": [
       "<Figure size 576x432 with 1 Axes>"
      ]
     },
     "metadata": {
      "needs_background": "light"
     },
     "output_type": "display_data"
    }
   ],
   "source": [
    "#visualize lexicon distribution features\n",
    "y=['Legitimate','Fake']\n",
    "sample=np.random.randint(len(lexicon_distribution_train))\n",
    "lexicons=['assert','fact','hedge','implic','rep','bias','neg','pos','subj']\n",
    "plt.figure(figsize=(8,6))\n",
    "plt.bar(lexicons,lexicon_distribution_train[sample,:])\n",
    "title=y[Y_train[sample]]\n",
    "plt.xlabel('Lexicons',fontsize=16)\n",
    "plt.ylabel('Counts',fontsize=16)\n",
    "plt.title('%s article distribution'%(title),fontsize=18,fontweight='bold')\n",
    "plt.grid(ls='--')\n",
    "plt.show()"
   ]
  },
  {
   "cell_type": "markdown",
   "metadata": {},
   "source": [
    "### Combine the features"
   ]
  },
  {
   "cell_type": "code",
   "execution_count": 170,
   "metadata": {},
   "outputs": [
    {
     "data": {
      "text/plain": [
       "(384, 54)"
      ]
     },
     "execution_count": 170,
     "metadata": {},
     "output_type": "execute_result"
    }
   ],
   "source": [
    "\n",
    "\n",
    "total_train_feat=np.concatenate((train_feat,sim_feat,lexicon_distribution_train),axis=1)\n",
    "total_train_feat.shape"
   ]
  },
  {
   "cell_type": "code",
   "execution_count": null,
   "metadata": {},
   "outputs": [],
   "source": []
  },
  {
   "cell_type": "markdown",
   "metadata": {},
   "source": [
    "### Normalize features"
   ]
  },
  {
   "cell_type": "code",
   "execution_count": 176,
   "metadata": {},
   "outputs": [],
   "source": [
    "std_scale=MinMaxScaler().fit(total_train_feat)\n",
    "X_train = std_scale.transform(total_train_feat)\n"
   ]
  },
  {
   "cell_type": "code",
   "execution_count": 177,
   "metadata": {},
   "outputs": [
    {
     "data": {
      "text/plain": [
       "(48, 54)"
      ]
     },
     "execution_count": 177,
     "metadata": {},
     "output_type": "execute_result"
    }
   ],
   "source": [
    "total_test_feat=np.concatenate((test_feat,test_sim_feat,lexicon_distribution_title_test),axis=1)\n",
    "X_test = std_scale.transform(total_test_feat)\n",
    "total_test_feat.shape"
   ]
  },
  {
   "cell_type": "markdown",
   "metadata": {},
   "source": [
    "### XGBoost"
   ]
  },
  {
   "cell_type": "code",
   "execution_count": 159,
   "metadata": {},
   "outputs": [
    {
     "name": "stderr",
     "output_type": "stream",
     "text": [
      "C:\\Users\\anh21\\.conda\\envs\\ML\\lib\\site-packages\\sklearn\\model_selection\\_split.py:1978: FutureWarning: The default value of cv will change from 3 to 5 in version 0.22. Specify it explicitly to silence this warning.\n",
      "  warnings.warn(CV_WARNING, FutureWarning)\n"
     ]
    },
    {
     "name": "stdout",
     "output_type": "stream",
     "text": [
      "The best parameters: {'reg_lambda': 100.0, 'n_estimators': 50, 'learning_rate': 0.5, 'gamma': 0.1}\n"
     ]
    }
   ],
   "source": [
    "import time\n",
    "from sklearn.model_selection import RandomizedSearchCV\n",
    "clf=xgb.XGBClassifier()\n",
    "\n",
    "param_grid = {\n",
    "        'learning_rate': [ 0.01, 0.1, 0.5, 1,5,10],\n",
    "        'gamma': [0.1, 0, 0.25, 0.5, 1.0,5.0],\n",
    "        'reg_lambda': [0.1, 1.0, 5.0, 10.0, 50.0, 100.0],\n",
    "        'n_estimators': [10,20,30,40,50]}\n",
    "\n",
    "\n",
    "rs_clf = RandomizedSearchCV(clf, param_distributions=param_grid, n_iter=30)\n",
    "rs_clf.fit(X_train, Y_train)\n",
    " \n",
    "# Identify optimal hyperparameter values\n",
    "best_n_estim= rs_clf.best_params_['n_estimators']\n",
    "print(\"The best parameters: {}\".format(rs_clf.best_params_))"
   ]
  },
  {
   "cell_type": "code",
   "execution_count": 180,
   "metadata": {},
   "outputs": [
    {
     "name": "stdout",
     "output_type": "stream",
     "text": [
      "              precision    recall  f1-score   support\n",
      "\n",
      "           0       0.85      0.96      0.90        24\n",
      "           1       0.95      0.83      0.89        24\n",
      "\n",
      "    accuracy                           0.90        48\n",
      "   macro avg       0.90      0.90      0.90        48\n",
      "weighted avg       0.90      0.90      0.90        48\n",
      "\n",
      "Overall Accuracy: 0.896\n"
     ]
    }
   ],
   "source": [
    "xgb_classifier = xgb.XGBClassifier(reg_lambda= 100, n_estimators= 10, learning_rate=0.5, gamma=0.1)\n",
    "xgb_classifier.fit(X_train, Y_train)\n",
    "xgb_predictions = xgb_classifier.predict(X_test)\n",
    " \n",
    "print (metrics.classification_report(Y_test, xgb_predictions))\n",
    "print (\"Overall Accuracy:\", round(metrics.accuracy_score(Y_test, xgb_predictions), 3))"
   ]
  },
  {
   "cell_type": "markdown",
   "metadata": {},
   "source": [
    "### NB model"
   ]
  },
  {
   "cell_type": "code",
   "execution_count": 181,
   "metadata": {},
   "outputs": [
    {
     "data": {
      "text/plain": [
       "MultinomialNB(alpha=10, class_prior=None, fit_prior=True)"
      ]
     },
     "execution_count": 181,
     "metadata": {},
     "output_type": "execute_result"
    }
   ],
   "source": [
    "naive = naive_bayes.MultinomialNB(alpha=10)\n",
    "naive.fit(X_train, Y_train)"
   ]
  },
  {
   "cell_type": "code",
   "execution_count": 182,
   "metadata": {},
   "outputs": [
    {
     "name": "stdout",
     "output_type": "stream",
     "text": [
      "              precision    recall  f1-score   support\n",
      "\n",
      "           f       1.00      0.21      0.34        24\n",
      "           l       0.56      1.00      0.72        24\n",
      "\n",
      "    accuracy                           0.60        48\n",
      "   macro avg       0.78      0.60      0.53        48\n",
      "weighted avg       0.78      0.60      0.53        48\n",
      "\n"
     ]
    }
   ],
   "source": [
    "p=naive.predict(X_test)\n",
    "print(classification_report(Y_test, p, target_names=['f','l']))"
   ]
  },
  {
   "cell_type": "markdown",
   "metadata": {},
   "source": [
    "### SVM model"
   ]
  },
  {
   "cell_type": "code",
   "execution_count": 184,
   "metadata": {},
   "outputs": [
    {
     "name": "stderr",
     "output_type": "stream",
     "text": [
      "C:\\Users\\anh21\\.conda\\envs\\ML\\lib\\site-packages\\sklearn\\svm\\base.py:193: FutureWarning: The default value of gamma will change from 'auto' to 'scale' in version 0.22 to account better for unscaled features. Set gamma explicitly to 'auto' or 'scale' to avoid this warning.\n",
      "  \"avoid this warning.\", FutureWarning)\n"
     ]
    },
    {
     "name": "stdout",
     "output_type": "stream",
     "text": [
      "{'C': 26.60392496699745}\n"
     ]
    }
   ],
   "source": [
    "from scipy import stats\n",
    "svclassifier =svm.SVC(kernel='rbf',decision_function_shape ='ovr')\n",
    "\n",
    "rand_list = {\"C\": stats.uniform(1, 100)}\n",
    "              \n",
    "rand_search = RandomizedSearchCV(svclassifier, param_distributions = rand_list, n_iter = 30, cv=8,n_jobs = 4,scoring='f1_weighted') \n",
    "rand_search.fit(X_train, Y_train) \n",
    "print(rand_search.best_params_)"
   ]
  },
  {
   "cell_type": "code",
   "execution_count": 185,
   "metadata": {},
   "outputs": [
    {
     "name": "stderr",
     "output_type": "stream",
     "text": [
      "C:\\Users\\anh21\\.conda\\envs\\ML\\lib\\site-packages\\sklearn\\svm\\base.py:193: FutureWarning: The default value of gamma will change from 'auto' to 'scale' in version 0.22 to account better for unscaled features. Set gamma explicitly to 'auto' or 'scale' to avoid this warning.\n",
      "  \"avoid this warning.\", FutureWarning)\n"
     ]
    },
    {
     "name": "stdout",
     "output_type": "stream",
     "text": [
      "              precision    recall  f1-score   support\n",
      "\n",
      "           f       0.84      0.88      0.86        24\n",
      "           l       0.87      0.83      0.85        24\n",
      "\n",
      "    accuracy                           0.85        48\n",
      "   macro avg       0.85      0.85      0.85        48\n",
      "weighted avg       0.85      0.85      0.85        48\n",
      "\n"
     ]
    }
   ],
   "source": [
    "svm_model=svm.SVC(C=20,kernel='rbf',decision_function_shape ='ovr')\n",
    "svm_model.fit(X_train, Y_train)\n",
    "p=svm_model.predict(X_test)\n",
    "print(classification_report(Y_test, p, target_names=['f','l']))"
   ]
  },
  {
   "cell_type": "markdown",
   "metadata": {},
   "source": [
    "### Random Forest"
   ]
  },
  {
   "cell_type": "code",
   "execution_count": 186,
   "metadata": {},
   "outputs": [
    {
     "name": "stdout",
     "output_type": "stream",
     "text": [
      "{'n_estimators': [151, 229, 261, 118, 133, 226, 126, 173, 166, 182], 'max_features': [27, 10, 25, 26, 24, 12, 23, 23, 25, 6, 14, 32, 26, 18, 26, 32, 29, 12, 5, 27, 16, 35, 30, 16, 22, 40, 21, 9, 22, 30]}\n"
     ]
    },
    {
     "name": "stderr",
     "output_type": "stream",
     "text": [
      "C:\\Users\\anh21\\.conda\\envs\\ML\\lib\\site-packages\\sklearn\\model_selection\\_split.py:1978: FutureWarning: The default value of cv will change from 3 to 5 in version 0.22. Specify it explicitly to silence this warning.\n",
      "  warnings.warn(CV_WARNING, FutureWarning)\n"
     ]
    },
    {
     "name": "stdout",
     "output_type": "stream",
     "text": [
      "The best performing n_estimators value is:   226\n",
      "The best performing max_features value is:    30\n"
     ]
    }
   ],
   "source": [
    "from sklearn.ensemble import RandomForestClassifier\n",
    "n_estimators = np.random.uniform(100, 300, 10).astype(int)\n",
    "max_features = np.random.normal(20, 10, 30).astype(int)\n",
    "\n",
    "hyperparameters = {'n_estimators': list(n_estimators),\n",
    "                   'max_features': list(max_features)}\n",
    " \n",
    "print (hyperparameters)\n",
    "\n",
    "randomCV = RandomizedSearchCV(RandomForestClassifier(), param_distributions=hyperparameters, n_iter=30)\n",
    "randomCV.fit(X_train, Y_train)\n",
    " \n",
    "# Identify optimal hyperparameter values\n",
    "best_n_estim      = randomCV.best_params_['n_estimators']\n",
    "best_max_features = randomCV.best_params_['max_features']  \n",
    " \n",
    "print(\"The best performing n_estimators value is: {:5d}\".format(best_n_estim))\n",
    "print(\"The best performing max_features value is: {:5d}\".format(best_max_features))"
   ]
  },
  {
   "cell_type": "code",
   "execution_count": 189,
   "metadata": {},
   "outputs": [
    {
     "name": "stdout",
     "output_type": "stream",
     "text": [
      "              precision    recall  f1-score   support\n",
      "\n",
      "           0       0.85      0.92      0.88        24\n",
      "           1       0.91      0.83      0.87        24\n",
      "\n",
      "    accuracy                           0.88        48\n",
      "   macro avg       0.88      0.88      0.87        48\n",
      "weighted avg       0.88      0.88      0.87        48\n",
      "\n",
      "Overall Accuracy: 0.875\n"
     ]
    }
   ],
   "source": [
    "rf = RandomForestClassifier(n_estimators=best_n_estim,\n",
    "                            max_features=30)\n",
    "rf.fit(X_train, Y_train)\n",
    "rf_predictions = rf.predict(X_test)\n",
    " \n",
    "print (metrics.classification_report(Y_test, rf_predictions))\n",
    "print (\"Overall Accuracy:\", round(metrics.accuracy_score(Y_test, rf_predictions), 3))"
   ]
  },
  {
   "cell_type": "code",
   "execution_count": 190,
   "metadata": {},
   "outputs": [],
   "source": [
    "feature_importances = pd.DataFrame(rf.feature_importances_,\n",
    "                                    columns=['importance']).sort_values('importance',ascending=False)"
   ]
  },
  {
   "cell_type": "code",
   "execution_count": 191,
   "metadata": {},
   "outputs": [
    {
     "data": {
      "image/png": "[encoded data removed]",
      "text/plain": [
       "<Figure size 504x360 with 1 Axes>"
      ]
     },
     "metadata": {
      "needs_background": "light"
     },
     "output_type": "display_data"
    }
   ],
   "source": [
    "feature_importances = pd.DataFrame(rf.feature_importances_,\n",
    "                                    columns=['importance']).sort_values('importance',ascending=False)\n",
    "fig, ax = plt.subplots(figsize=(7, 5))\n",
    "feature_importances['importance'][0:22].plot(kind='bar')\n",
    "plt.xlabel('Features',fontweight='bold', fontsize=10)\n",
    "plt.xticks(np.arange(22),rotation=0)\n",
    "plt.ylabel('Importance',fontweight='bold', fontsize=10)\n",
    "plt.grid(ls='--')\n",
    "ax.set_ylim([0,0.7])\n",
    "#plt.title('AUC performance CHBMIT Dataset', fontsize=14,fontweight='bold')\n",
    "ax.legend(loc='best')\n",
    "plt.savefig('Feature_importance.png', dpi=400,bbox_inches='tight') "
   ]
  },
  {
   "cell_type": "markdown",
   "metadata": {},
   "source": [
    "### Ensamble"
   ]
  },
  {
   "cell_type": "code",
   "execution_count": 192,
   "metadata": {},
   "outputs": [
    {
     "name": "stdout",
     "output_type": "stream",
     "text": [
      "\n",
      "ensemble performance:\n",
      "              precision    recall  f1-score   support\n",
      "\n",
      "        Fake       0.85      0.96      0.90        24\n",
      "    Eligible       0.95      0.83      0.89        24\n",
      "\n",
      "    accuracy                           0.90        48\n",
      "   macro avg       0.90      0.90      0.90        48\n",
      "weighted avg       0.90      0.90      0.90        48\n",
      "\n"
     ]
    }
   ],
   "source": [
    "from sklearn.ensemble import RandomForestClassifier, GradientBoostingClassifier, VotingClassifier\n",
    "from sklearn.metrics import accuracy_score, f1_score, precision_score, recall_score, classification_report\n",
    "from sklearn.ensemble import AdaBoostClassifier\n",
    "\n",
    "\n",
    "rnd_forest = RandomForestClassifier(n_estimators=300, criterion='entropy', n_jobs=-1, max_features=None)\n",
    "rnd_forest_gini = RandomForestClassifier(n_estimators=300, criterion='gini', n_jobs=-1, random_state=20, max_features=None)\n",
    "adb = AdaBoostClassifier(n_estimators=300)\n",
    "xgb_classifier = xgb.XGBClassifier(reg_lambda= 100.0, n_estimators= 10, learning_rate=1, gamma=0.5)\n",
    "\n",
    "eclf = VotingClassifier(estimators=[('rnd_forest', rnd_forest),('rnd_forest_gini',rnd_forest_gini),('adb',adb),('xgb',xgb_classifier)], voting='soft')\n",
    "\n",
    "eclf.fit(X_train, Y_train)\n",
    "y_val_pred = eclf.predict(X_test)\n",
    "print('\\nensemble performance:')\n",
    "\n",
    "print(classification_report(Y_test, y_val_pred, target_names=['Fake', 'Eligible']))"
   ]
  }
 ],
 "metadata": {
  "kernelspec": {
   "display_name": "Python 3",
   "language": "python",
   "name": "python3"
  },
  "language_info": {
   "codemirror_mode": {
    "name": "ipython",
    "version": 3
   },
   "file_extension": ".py",
   "mimetype": "text/x-python",
   "name": "python",
   "nbconvert_exporter": "python",
   "pygments_lexer": "ipython3",
   "version": "3.7.4"
  }
 },
 "nbformat": 4,
 "nbformat_minor": 2
}
